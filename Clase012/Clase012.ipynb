{
 "cells": [
  {
   "cell_type": "code",
   "execution_count": 1,
   "id": "5552124c",
   "metadata": {},
   "outputs": [
    {
     "data": {
      "text/plain": [
       "array([[ 7., -1.,  0.,  0.,  0.],\n",
       "       [ 3.,  7., -1.,  0.,  0.],\n",
       "       [ 0.,  3.,  7., -1.,  0.],\n",
       "       [ 0.,  0.,  3.,  7., -1.],\n",
       "       [ 0.,  0.,  0.,  3.,  7.]])"
      ]
     },
     "execution_count": 1,
     "metadata": {},
     "output_type": "execute_result"
    }
   ],
   "source": [
    "#P1\n",
    "import numpy as np\n",
    "\n",
    "def crea_trid(n,a,b,c):\n",
    "    m = np.zeros((n,n))\n",
    "    for i in range(n):\n",
    "        for j in range(n):\n",
    "            if i==j:\n",
    "                m[i,j] = a\n",
    "            elif (i-j)==1:\n",
    "                m[i,j] = c\n",
    "            elif (j-i)==1:\n",
    "                m[i,j] = b\n",
    "    return m\n",
    "\n",
    "crea_trid(5,7,-1,3)"
   ]
  },
  {
   "cell_type": "code",
   "execution_count": 2,
   "id": "d65e401f",
   "metadata": {},
   "outputs": [
    {
     "data": {
      "text/plain": [
       "array([[1.        , 0.5       , 0.33333333, 0.25      , 0.2       ],\n",
       "       [0.5       , 0.33333333, 0.25      , 0.2       , 0.16666667],\n",
       "       [0.33333333, 0.25      , 0.2       , 0.16666667, 0.14285714],\n",
       "       [0.25      , 0.2       , 0.16666667, 0.14285714, 0.125     ],\n",
       "       [0.2       , 0.16666667, 0.14285714, 0.125     , 0.11111111]])"
      ]
     },
     "execution_count": 2,
     "metadata": {},
     "output_type": "execute_result"
    }
   ],
   "source": [
    "#P2\n",
    "import numpy as np\n",
    "\n",
    "def hilbert(n):\n",
    "    m = np.zeros((n,n))\n",
    "    for i in range(1,n+1):\n",
    "        for j in range(1,n+1):\n",
    "            m[i-1,j-1] = 1/(i+j-1)\n",
    "    return m\n",
    "hilbert(5)"
   ]
  },
  {
   "cell_type": "code",
   "execution_count": 4,
   "id": "92000ffc",
   "metadata": {},
   "outputs": [
    {
     "name": "stdout",
     "output_type": "stream",
     "text": [
      "Correcto\n"
     ]
    }
   ],
   "source": [
    "#P3\n",
    "import numpy as np\n",
    "\n",
    "def num_unicos(arreglo):\n",
    "    u = []\n",
    "    for e in arreglo:\n",
    "        if e not in u:\n",
    "            u.append(e)\n",
    "    return len(u)\n",
    "\n",
    "def suduku(m):\n",
    "    x,y = m.shape\n",
    "    #filas\n",
    "    for i in range(x):\n",
    "        if num_unicos( m[i,:] )<x:\n",
    "            return False\n",
    "            break\n",
    "    #columnas\n",
    "    for j in range(y):\n",
    "        if num_unicos( m[:,j] )<y:\n",
    "            return False\n",
    "            break\n",
    "    #subcuadricula\n",
    "    for i in range(0,x,3):\n",
    "        for j in range(0,y,3):\n",
    "            if num_unicos( m[i:i+3, j:j+3].flatten() )<x:\n",
    "                return False\n",
    "            break\n",
    "    return True\n",
    "    \n",
    "m = np.array( [\n",
    "[3,4,9,8,1,6,5,7,2],\n",
    "[2,7,5,9,3,4,8,6,1],\n",
    "[8,1,6,2,7,5,9,3,4],\n",
    "[9,6,2,7,8,1,4,5,3],\n",
    "[4,5,7,6,9,3,2,1,8],\n",
    "[1,8,3,4,5,2,6,9,7],\n",
    "[5,9,4,1,2,7,3,8,6],\n",
    "[6,3,1,5,4,8,7,2,9],\n",
    "[7,2,8,3,6,9,1,4,5]\n",
    "] )\n",
    "    \n",
    "if suduku(m):\n",
    "    print('Correcto')\n",
    "else:\n",
    "    print('Incorrecto')"
   ]
  }
 ],
 "metadata": {
  "kernelspec": {
   "display_name": "Python 3 (ipykernel)",
   "language": "python",
   "name": "python3"
  },
  "language_info": {
   "codemirror_mode": {
    "name": "ipython",
    "version": 3
   },
   "file_extension": ".py",
   "mimetype": "text/x-python",
   "name": "python",
   "nbconvert_exporter": "python",
   "pygments_lexer": "ipython3",
   "version": "3.9.7"
  }
 },
 "nbformat": 4,
 "nbformat_minor": 5
}
