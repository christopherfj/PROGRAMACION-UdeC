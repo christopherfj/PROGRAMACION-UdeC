{
 "cells": [
  {
   "cell_type": "code",
   "execution_count": 1,
   "id": "b8c3b7ff",
   "metadata": {},
   "outputs": [
    {
     "name": "stdout",
     "output_type": "stream",
     "text": [
      "Ingrese valor 1<=m<=1000: 5\n",
      "Ingrese valor n>0: 3\n",
      "37 111\n",
      "Ingrese valor n>0: 7\n",
      "15873 111111\n",
      "Ingrese valor n>0: 64\n",
      "64 es par\n",
      "Ingrese valor n>0: 105\n",
      "105 es múltiplo de 5\n",
      "Ingrese valor n>0: 11\n",
      "1 11\n"
     ]
    }
   ],
   "source": [
    "#P1\n",
    "def validar(msje, inf, sup):\n",
    "    numero = int(input('Ingrese valor '+msje))\n",
    "    if inf!=sup:\n",
    "        while numero<inf or numero>sup:\n",
    "            numero = int(input('Error\\nIngrese valor '+msje))\n",
    "    else:\n",
    "        while numero<inf:\n",
    "            numero = int(input('Error\\nIngrese valor '+msje))\n",
    "    return numero\n",
    "\n",
    "def n_digitos(n):\n",
    "    n_aux = n\n",
    "    n_dig = 0\n",
    "    s_dig = 0\n",
    "    while n_aux != 0:\n",
    "        d = n_aux%10\n",
    "        n_aux = n_aux//10\n",
    "        n_dig = n_dig+1\n",
    "        if d == 1:\n",
    "            s_dig = s_dig+d\n",
    "    return n_dig, s_dig\n",
    "\n",
    "def casos_numeros(n):\n",
    "    if (n%2)==0:\n",
    "        print(n,'es par')\n",
    "    elif (n%5)==0:\n",
    "        print(n,'es múltiplo de 5')\n",
    "    else:\n",
    "        mul = 1\n",
    "        n_dig_p, s_div_p = n_digitos( mul*n )\n",
    "        while n_dig_p != s_div_p:\n",
    "            mul = mul+1\n",
    "            n_dig_p, s_div_p = n_digitos( mul*n )\n",
    "        print(mul, n*mul)\n",
    "\n",
    "m = validar('1<=m<=1000: ', 1, 1000)\n",
    "i = 0 \n",
    "while i<m:\n",
    "    n = validar('n>0: ', 0, 0)\n",
    "    casos_numeros(n)             \n",
    "    i = i+1 "
   ]
  },
  {
   "cell_type": "code",
   "execution_count": 2,
   "id": "8d58be54",
   "metadata": {},
   "outputs": [
    {
     "name": "stdout",
     "output_type": "stream",
     "text": [
      "Ingrese valor 1<=x<=100: 1\n",
      "Ingrese valor 1<=e<=10000: 2\n",
      "3\n",
      "Ingrese valor 1<=x<=100: 2\n",
      "Ingrese valor 1<=e<=10000: 3\n",
      "15\n",
      "Ingrese valor 1<=x<=100: 3\n",
      "Ingrese valor 1<=e<=10000: 4\n",
      "121\n",
      "Ingrese valor 1<=x<=100: 2\n",
      "Ingrese valor 1<=e<=10000: 19\n",
      "1048575\n",
      "Ingrese valor 1<=x<=100: 0\n",
      "Ingrese valor 1<=e<=10000: 0\n"
     ]
    }
   ],
   "source": [
    "#P2\n",
    "def validar(msje, numero, inf, sup):\n",
    "    while numero<inf or numero>sup:\n",
    "        numero = int(input('Error\\nIngrese valor '+msje))\n",
    "    return numero\n",
    "\n",
    "def potencia(x,e):\n",
    "    if e==0:\n",
    "        pot=1\n",
    "    else:\n",
    "        pot = x\n",
    "        i = 0\n",
    "        while i<(e-1):\n",
    "            aux = 0\n",
    "            j = 0\n",
    "            while j<x:\n",
    "                aux += pot\n",
    "                j = j+1\n",
    "            pot = aux\n",
    "            i = i+1\n",
    "    return pot\n",
    "    \n",
    "def suma(x,e):\n",
    "    s = 0\n",
    "    for i in range(0, e+1):\n",
    "        s = s+potencia(x,i)\n",
    "    return s\n",
    "\n",
    "while True:\n",
    "    x = int(input('Ingrese valor 1<=x<=100: '))\n",
    "    e = int(input('Ingrese valor 1<=e<=10000: '))\n",
    "    if x==0 and e==0:\n",
    "        break\n",
    "    x = validar('1<=x<=100: ', x, 1, 100)\n",
    "    e = validar('1<=e<=10000: ', e, 1, 10000)\n",
    "    s = suma(x,e)\n",
    "    print(s)"
   ]
  }
 ],
 "metadata": {
  "kernelspec": {
   "display_name": "Python 3 (ipykernel)",
   "language": "python",
   "name": "python3"
  },
  "language_info": {
   "codemirror_mode": {
    "name": "ipython",
    "version": 3
   },
   "file_extension": ".py",
   "mimetype": "text/x-python",
   "name": "python",
   "nbconvert_exporter": "python",
   "pygments_lexer": "ipython3",
   "version": "3.9.7"
  }
 },
 "nbformat": 4,
 "nbformat_minor": 5
}
