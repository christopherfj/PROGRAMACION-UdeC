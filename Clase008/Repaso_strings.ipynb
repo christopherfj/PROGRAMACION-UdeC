{
 "cells": [
  {
   "cell_type": "code",
   "execution_count": 1,
   "id": "89a5573f",
   "metadata": {},
   "outputs": [
    {
     "name": "stdout",
     "output_type": "stream",
     "text": [
      "Programación Python\n"
     ]
    }
   ],
   "source": [
    "#Comillas dobles o simples para declarar un string (cadena)\n",
    "#Precaución en caso de usar apóstrofe. En ese caso, usar comillas dobles \n",
    "#El espacio también es un caracter\n",
    "cadena = \"Programación Python\"\n",
    "print(cadena)"
   ]
  },
  {
   "cell_type": "code",
   "execution_count": 2,
   "id": "066e0e50",
   "metadata": {},
   "outputs": [
    {
     "name": "stdout",
     "output_type": "stream",
     "text": [
      "19\n"
     ]
    }
   ],
   "source": [
    "#Para obtener la cantidad de caracteres:\n",
    "cadena = \"Programación Python\"\n",
    "largo = len(cadena)\n",
    "print(largo)"
   ]
  },
  {
   "cell_type": "code",
   "execution_count": 3,
   "id": "9defec78",
   "metadata": {},
   "outputs": [
    {
     "name": "stdout",
     "output_type": "stream",
     "text": [
      "Cadena original: Programación Python\n",
      "Primer elemento: P\n",
      "Segundo elemento: r\n",
      "Último elemento: n\n"
     ]
    }
   ],
   "source": [
    "#Es posible acceder a los elementos de un string mediante posiciones (índices)\n",
    "#Primera posición comienza en 0\n",
    "#Última posición termina en len(cadena)-1, donde cadena es el nombre de la variable\n",
    "cadena = \"Programación Python\"\n",
    "print('Cadena original:', cadena)\n",
    "print('Primer elemento:', cadena[0])\n",
    "print('Segundo elemento:', cadena[1])\n",
    "print('Último elemento:', cadena[len(cadena)-1])"
   ]
  },
  {
   "attachments": {
    "pos.PNG": {
     "image/png": "[encoded data removed]"
    }
   },
   "cell_type": "markdown",
   "id": "32eb1b73",
   "metadata": {},
   "source": [
    "![pos.PNG](attachment:pos.PNG)"
   ]
  },
  {
   "cell_type": "code",
   "execution_count": 4,
   "id": "327527fa",
   "metadata": {},
   "outputs": [
    {
     "name": "stdout",
     "output_type": "stream",
     "text": [
      "Cadena original: Programación Python\n",
      "Primeros dos elementos: Pr\n",
      "Primeros dos elementos: Pr\n",
      "Últimos dos elementos: on\n",
      "Últimos dos elementos: on\n",
      "Todos los elementos de dos en dos: Pormcó yhn\n",
      "Todos los elementos de dos en dos: Pormcó yhn\n"
     ]
    }
   ],
   "source": [
    "#También es posible obtener un segmento del string mediante ':'\n",
    "cadena = \"Programación Python\"\n",
    "print('Cadena original:', cadena)\n",
    "#En este ejemplo las posiciones son: [0,1) (el valor superior no se considera)\n",
    "print('Primeros dos elementos:', cadena[0:2])\n",
    "#Mismo ejemplo, pero omitiendo el primer número (0)\n",
    "print('Primeros dos elementos:', cadena[:2])\n",
    "#En este ejemplo se muestran los últimos dos elementos\n",
    "#No se agregó len(cadena)-1 porque el valor superior no se considera\n",
    "print('Últimos dos elementos:', cadena[len(cadena)-2:len(cadena)])\n",
    "#Mismo ejemplo, pero omitiendo el último número (len(cadena))\n",
    "print('Últimos dos elementos:', cadena[len(cadena)-2:])\n",
    "#Para obtener los elementos de forma intercalada, agregar otro ':'\n",
    "#En este ejemplo se muestran todos los elementos de dos en dos (paso)\n",
    "print('Todos los elementos de dos en dos:', cadena[0:len(cadena):2])\n",
    "#Mismo ejemplo, pero omitiendo el primer y último valor, manteniendo solo el paso (2)\n",
    "print('Todos los elementos de dos en dos:', cadena[::2])\n",
    "#Para copiar todos los elementos de un string a otro:\n",
    "nueva_cadena = cadena[:] #NO hacer nueva_cadena=cadena"
   ]
  },
  {
   "cell_type": "code",
   "execution_count": 5,
   "id": "393bbfb2",
   "metadata": {},
   "outputs": [
    {
     "name": "stdout",
     "output_type": "stream",
     "text": [
      "Cadena original: Programación Python\n",
      "Primer elemento: P\n",
      "Segundo elemento: r\n",
      "Último elemento: n\n",
      "Penúltimo elemento: o\n",
      "String invertido: nohtyP nóicamargorP\n"
     ]
    }
   ],
   "source": [
    "#También es posible obtener elementos con posiciones negativas\n",
    "cadena = \"Programación Python\"\n",
    "print('Cadena original:', cadena)\n",
    "print('Primer elemento:', cadena[-len(cadena)])\n",
    "print('Segundo elemento:', cadena[-len(cadena)+1])\n",
    "print('Último elemento:', cadena[-1])\n",
    "print('Penúltimo elemento:', cadena[-2])\n",
    "#Entonces, para invertir los elementos:\n",
    "print('String invertido:', cadena[::-1])"
   ]
  },
  {
   "attachments": {
    "pos_neg.PNG": {
     "image/png": "[encoded data removed]"
    }
   },
   "cell_type": "markdown",
   "id": "a12bb364",
   "metadata": {},
   "source": [
    "![pos_neg.PNG](attachment:pos_neg.PNG)"
   ]
  },
  {
   "cell_type": "code",
   "execution_count": 6,
   "id": "8ba818b2",
   "metadata": {},
   "outputs": [],
   "source": [
    "#Los strings son inmutables, es decir, no es posible modificar sus caracteres:\n",
    "cadena = \"Programación Python\"\n",
    "#cadena[0] = 'o' #esto genera un error (comentado)"
   ]
  },
  {
   "cell_type": "code",
   "execution_count": 7,
   "id": "0433d6f4",
   "metadata": {},
   "outputs": [
    {
     "name": "stdout",
     "output_type": "stream",
     "text": [
      "P\n",
      "r\n",
      "o\n",
      "g\n",
      "r\n",
      "a\n",
      "m\n",
      "a\n",
      "c\n",
      "i\n",
      "ó\n",
      "n\n",
      " \n",
      "P\n",
      "y\n",
      "t\n",
      "h\n",
      "o\n",
      "n\n"
     ]
    }
   ],
   "source": [
    "#Alternativa para recorrer los elementos de un string (for):\n",
    "cadena = \"Programación Python\"\n",
    "for elemento in cadena: #elemento solo es una variable auxiliar\n",
    "    print(elemento)"
   ]
  },
  {
   "cell_type": "code",
   "execution_count": 8,
   "id": "9f1eac1a",
   "metadata": {},
   "outputs": [
    {
     "name": "stdout",
     "output_type": "stream",
     "text": [
      "P\n",
      "r\n",
      "o\n",
      "g\n",
      "r\n",
      "a\n",
      "m\n",
      "a\n",
      "c\n",
      "i\n",
      "ó\n",
      "n\n",
      " \n",
      "P\n",
      "y\n",
      "t\n",
      "h\n",
      "o\n",
      "n\n"
     ]
    }
   ],
   "source": [
    "#Alternativa para recorrer los elementos de un string con posiciones (for):\n",
    "cadena = \"Programación Python\"\n",
    "for i in range(len(cadena)): #range en este caso entrega las posiciones\n",
    "    print(cadena[i]) #acceder al elemento i-ésimo del string"
   ]
  },
  {
   "cell_type": "code",
   "execution_count": 9,
   "id": "14b4bcc2",
   "metadata": {},
   "outputs": [
    {
     "name": "stdout",
     "output_type": "stream",
     "text": [
      "P\n",
      "r\n",
      "o\n",
      "g\n",
      "r\n",
      "a\n",
      "m\n",
      "a\n",
      "c\n",
      "i\n",
      "ó\n",
      "n\n",
      " \n",
      "P\n",
      "y\n",
      "t\n",
      "h\n",
      "o\n",
      "n\n"
     ]
    }
   ],
   "source": [
    "#Alternativa para recorrer los elementos de un string con posiciones (while):\n",
    "cadena = \"Programación Python\"\n",
    "n = len(cadena)\n",
    "i = 0 #(1)\n",
    "while i<n: #(2)\n",
    "    print(cadena[i]) #acceder al elemento i-ésimo del string\n",
    "    i = i+1"
   ]
  },
  {
   "cell_type": "code",
   "execution_count": 10,
   "id": "d8aef3c2",
   "metadata": {},
   "outputs": [
    {
     "name": "stdout",
     "output_type": "stream",
     "text": [
      "Cadena original:\n",
      "Programación Python\n",
      "\n",
      "Cadena concatenada:\n",
      "Programación Python 2022\n",
      "\n",
      "Cadena concatenada desde vacío:\n",
      "Programación Python 2022\n",
      "\n",
      "Cadena concatenada conviertiendo:\n",
      "Programación Python 2022\n",
      "\n",
      "Cadena repetida:\n",
      "Programación Python 2022\n",
      "Programación Python 2022\n",
      "Programación Python 2022\n",
      "Programación Python 2022\n",
      "Programación Python 2022\n",
      "Programación Python 2022\n",
      "Programación Python 2022\n",
      "Programación Python 2022\n",
      "Programación Python 2022\n",
      "Programación Python 2022\n",
      "\n"
     ]
    }
   ],
   "source": [
    "#Es posible sumar strings (concatenar):\n",
    "cadena = \"Programación Python\"\n",
    "print('Cadena original:\\n'+cadena+'\\n') #\\n es un solo caracter (salto de línea)\n",
    "nueva_cadena = cadena+' 2022' \n",
    "print('Cadena concatenada:\\n'+nueva_cadena+'\\n')\n",
    "#Es posible sumar a un string vacío otros caracteres\n",
    "cadena_vacia = '' #cadena vacía '', no confundir con espacio ' '\n",
    "cadena_vacia = cadena_vacia+nueva_cadena\n",
    "print('Cadena concatenada desde vacío:\\n'+cadena_vacia+'\\n')\n",
    "#Para sumar, es necesario que los operandos sean strings, en caso contrario, error\n",
    "cadena_tipo = cadena+' '+str(2022) #str permite convertir a string\n",
    "print('Cadena concatenada conviertiendo:\\n'+cadena_tipo+'\\n')\n",
    "#Es posible multiplicar strings por un número, generando una repetición\n",
    "otra_cadena = (nueva_cadena+'\\n')*10\n",
    "print('Cadena repetida:\\n'+otra_cadena)"
   ]
  },
  {
   "cell_type": "code",
   "execution_count": 11,
   "id": "1c22aade",
   "metadata": {},
   "outputs": [
    {
     "name": "stdout",
     "output_type": "stream",
     "text": [
      "ASCII letra a: 97\n",
      "ASCII letra A: 65\n",
      "ASCII espacio: 32\n",
      "Letra a: a\n",
      "Letra A: A\n",
      "Espacio:  \n"
     ]
    }
   ],
   "source": [
    "#Es posible obtener el valor ASCII de un caracter con la función ord\n",
    "#Tabla ASCII: https://elcodigoascii.com.ar/\n",
    "#Precaución con las tildes y eñes\n",
    "print('ASCII letra a:', ord('a'))\n",
    "print('ASCII letra A:', ord('A'))\n",
    "print('ASCII espacio:', ord(' ')) #espacio también es un caracter\n",
    "#El proceso inverso se realiza mediante la función chr\n",
    "print('Letra a:', chr(97))\n",
    "print('Letra A:', chr(65))\n",
    "print('Espacio:', chr(32)) "
   ]
  },
  {
   "cell_type": "code",
   "execution_count": 12,
   "id": "4c8498be",
   "metadata": {},
   "outputs": [
    {
     "name": "stdout",
     "output_type": "stream",
     "text": [
      "Cadena original: Programación Python\n",
      "Cadena mayúsculas: PROGRAMACIÓN PYTHON\n",
      "Cantidad de letras P (mayúsculas) en la cadena: 2\n",
      "Separar la cadena por espacios ['Programación', 'Python']\n",
      "Reemplazar las letras a (minúsculas) por A (mayúsculas) ProgrAmAción Python\n",
      "Saber si la cadena es solo contiene letras: False\n"
     ]
    }
   ],
   "source": [
    "#Las cadenas son un tipo de datos que tienen asociados algunos métodos\n",
    "#Acá se muestran solo algunos\n",
    "#El resultado de estas funciones se puede asignar a otra variable\n",
    "cadena = \"Programación Python\"\n",
    "print('Cadena original:', cadena)\n",
    "print('Cadena mayúsculas:', cadena.upper() )\n",
    "print('Cantidad de letras P (mayúsculas) en la cadena:', cadena.count('P') )\n",
    "print('Separar la cadena por espacios', cadena.split(' ') ) #notar el espacio\n",
    "print('Reemplazar las letras a (minúsculas) por A (mayúsculas)', cadena.replace('a', 'A') )\n",
    "print('Saber si la cadena es solo contiene letras:', cadena.isalpha() )"
   ]
  }
 ],
 "metadata": {
  "kernelspec": {
   "display_name": "Python 3 (ipykernel)",
   "language": "python",
   "name": "python3"
  },
  "language_info": {
   "codemirror_mode": {
    "name": "ipython",
    "version": 3
   },
   "file_extension": ".py",
   "mimetype": "text/x-python",
   "name": "python",
   "nbconvert_exporter": "python",
   "pygments_lexer": "ipython3",
   "version": "3.9.7"
  }
 },
 "nbformat": 4,
 "nbformat_minor": 5
}
