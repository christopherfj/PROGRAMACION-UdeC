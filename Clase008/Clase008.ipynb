{
 "cells": [
  {
   "cell_type": "code",
   "execution_count": 1,
   "id": "7106ca4a",
   "metadata": {},
   "outputs": [
    {
     "name": "stdout",
     "output_type": "stream",
     "text": [
      "Ingrese clave: 0 ACABAR87\n",
      "Clave no cumple los requisitos\n",
      "Ingrese clave: 0_ACABAR87\n",
      "clave ingresada correctamente\n"
     ]
    }
   ],
   "source": [
    "#P1: \n",
    "def verifica_pwd(cadena):\n",
    "    minusculas = 'abcdefghijklmnñopqrstuvwxyz'\n",
    "    mayusculas = minusculas.upper()\n",
    "    numeros = '0123456789'\n",
    "    s_letras = 0\n",
    "    s_numeros = 0\n",
    "    # el \\ permite hacer un salto de línea en términos de programación en python\n",
    "    if len(cadena)<6 or len(cadena)>10 or 'A' not in cadena or 'B' not in cadena or \\\n",
    "    'C' not in cadena or ' ' in cadena:\n",
    "        return False\n",
    "    else:\n",
    "        for c in cadena:\n",
    "            if c in minusculas or c in mayusculas:\n",
    "                s_letras = s_letras+1\n",
    "            elif c in numeros:\n",
    "                s_numeros = s_numeros+1\n",
    "        if s_letras>=5 and s_numeros>=1:\n",
    "            return True\n",
    "        else:\n",
    "            return False\n",
    "        \n",
    "#0_ACABAR87\n",
    "\n",
    "pwd = input('Ingrese clave: ')\n",
    "while not verifica_pwd(pwd):\n",
    "    pwd = input('Clave no cumple los requisitos\\nIngrese clave: ')\n",
    "print('clave ingresada correctamente')\n"
   ]
  },
  {
   "cell_type": "code",
   "execution_count": 2,
   "id": "7c1daba0",
   "metadata": {},
   "outputs": [
    {
     "name": "stdout",
     "output_type": "stream",
     "text": [
      "CIERTO DIA DE VERANO ESTABA EN LA PLAYA\n"
     ]
    }
   ],
   "source": [
    "#P2\n",
    "def descifrar(cadena):\n",
    "    cadena_aux = ''\n",
    "    #agregar otras conversiones faltantes\n",
    "    for c in cadena:\n",
    "        if c=='1':\n",
    "            cadena_aux = cadena_aux+'I'\n",
    "        elif c=='3':\n",
    "            cadena_aux = cadena_aux+'E'\n",
    "        elif c=='4':\n",
    "            cadena_aux = cadena_aux+'A'\n",
    "        elif c=='5':\n",
    "            cadena_aux = cadena_aux+'S'\n",
    "        elif c=='7':\n",
    "            cadena_aux = cadena_aux+'T'\n",
    "        elif c == '8':\n",
    "            cadena_aux = cadena_aux+'B'\n",
    "        elif c=='0':\n",
    "            cadena_aux = cadena_aux+'O'\n",
    "        else:\n",
    "            cadena_aux = cadena_aux+c\n",
    "    return cadena_aux\n",
    "\n",
    "cadena = 'C13R70 D14 D3 V3R4N0 357484 3N L4 PL4Y4'\n",
    "cadena_aux = descifrar(cadena)\n",
    "print(cadena_aux)"
   ]
  },
  {
   "cell_type": "code",
   "execution_count": 3,
   "id": "3ec1248e",
   "metadata": {},
   "outputs": [
    {
     "name": "stdout",
     "output_type": "stream",
     "text": [
      "15 palabras,  13 vocales a,  4 vocales e,  1 vocales i,  8 vocales o,  2 vocales u.\n"
     ]
    }
   ],
   "source": [
    "#P3\n",
    "def conteo_cadena(string):\n",
    "    #copia local de la cadena\n",
    "    cadena = string[:]\n",
    "    #esto evita contar mayúsculas y minúsculas por separado, solo se pide solo vocales\n",
    "    cadena = cadena.lower() \n",
    "    s_a = 0\n",
    "    s_e = 0\n",
    "    s_i = 0\n",
    "    s_o = 0\n",
    "    s_u = 0\n",
    "    s_p = 0\n",
    "    #es posible hacer usos múltiples de replace (devuelve string)\n",
    "    #al final el uso de split genera una lista (palabras)\n",
    "    palabras = cadena.replace(',', ' ').replace(';', ' ').replace('.', ' ').split(' ')\n",
    "    for palabra in palabras:\n",
    "        #considera vocales con tilde\n",
    "        s_a = s_a+palabra.count('a')+palabra.count('á')\n",
    "        s_e = s_e+palabra.count('e')+palabra.count('é')\n",
    "        s_i = s_i+palabra.count('i')+palabra.count('í')\n",
    "        s_o = s_o+palabra.count('o')+palabra.count('ó')\n",
    "        s_u = s_u+palabra.count('u')+palabra.count('ú')\n",
    "        if len(palabra)>0: #split pudo generar palabras vacias ('')\n",
    "            s_p = s_p+1\n",
    "    print( s_p, 'palabras, ', s_a, 'vocales a, ', s_e, 'vocales e, ', s_i, 'vocales i, ', s_o, 'vocales o, ', s_u, 'vocales u.' )\n",
    "\n",
    "cadena = 'La bella y graciosa moza, marchose a lavar la ropa. La mojó en un arroyuelo'\n",
    "conteo_cadena(cadena)"
   ]
  },
  {
   "cell_type": "code",
   "execution_count": 4,
   "id": "725be136",
   "metadata": {},
   "outputs": [
    {
     "name": "stdout",
     "output_type": "stream",
     "text": [
      "Ingrese N: 1\n",
      "Cadena: ERIROM SODOTDIVOC ED SOM AAAAAAAAAAAAAAAAAAAAAAAAAAAAAAAAAAAAAAAAAAAAAAAAAAAAAAAAAAAAAAAAAAAAAAAAAAAAA\n",
      "Error\n",
      "Cadena: ERIROM SODOTDIVOC ED SOM\n",
      "Cadena invertida: \n",
      "TODOS MORIREMOS DE COVID\n"
     ]
    }
   ],
   "source": [
    "#P4\n",
    "def invertir(cadena):\n",
    "    l = int(len(cadena)/2)\n",
    "    cadena_aux = cadena[:l][::-1]+cadena[l:][::-1]\n",
    "    return cadena_aux\n",
    "\n",
    "def verifica_criterio(cadena):\n",
    "    mayusculas = 'ABCDEFGHIKLMNÑOPQRSTUVWXYZ'\n",
    "    s = 0\n",
    "    for c in cadena:\n",
    "        if c in mayusculas or c==' ':\n",
    "            s = s+1\n",
    "    if s>100:\n",
    "        return False\n",
    "    else:\n",
    "        return True\n",
    "\n",
    "def validar(cadena):\n",
    "    while not verifica_criterio(cadena):\n",
    "        cadena = input('Error\\nCadena: ')\n",
    "    return cadena\n",
    "\n",
    "#ERIROM SODOTDIVOC ED SOM AAAAAAAAAAAAAAAAAAAAAAAAAAAAAAAAAAAAAAAAAAAAAAAAAAAAAAAAAAAAAAAAAAAAAAAAAAAAA\n",
    "#ERIROM SODOTDIVOC ED SOM\n",
    "\n",
    "N = int(input('Ingrese N: '))\n",
    "i = 0\n",
    "while i<N:\n",
    "    cadena = input('Cadena: ')\n",
    "    cadena = validar(cadena)\n",
    "    cadena_aux = invertir(cadena)\n",
    "    print('Cadena invertida: \\n'+cadena_aux)\n",
    "    i = i+1"
   ]
  }
 ],
 "metadata": {
  "kernelspec": {
   "display_name": "Python 3 (ipykernel)",
   "language": "python",
   "name": "python3"
  },
  "language_info": {
   "codemirror_mode": {
    "name": "ipython",
    "version": 3
   },
   "file_extension": ".py",
   "mimetype": "text/x-python",
   "name": "python",
   "nbconvert_exporter": "python",
   "pygments_lexer": "ipython3",
   "version": "3.9.7"
  }
 },
 "nbformat": 4,
 "nbformat_minor": 5
}
