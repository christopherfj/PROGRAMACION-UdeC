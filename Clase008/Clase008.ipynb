{
 "cells": [
  {
   "cell_type": "code",
   "execution_count": 5,
   "id": "7106ca4a",
   "metadata": {},
   "outputs": [
    {
     "name": "stdout",
     "output_type": "stream",
     "text": [
      "Ingrese clave: ABC_1\n",
      "Clave no cumple los requisitos\n",
      "Ingrese clave: ABC ABC_1\n",
      "Clave no cumple los requisitos\n",
      "Ingrese clave: ABCaaaaaaaaaaaABC_1\n",
      "Clave no cumple los requisitos\n",
      "Ingrese clave: ABC1\n",
      "Clave no cumple los requisitos\n",
      "Ingrese clave: ABC_ABC_1\n",
      "clave ingresada correctamente\n"
     ]
    }
   ],
   "source": [
    "#P1: \n",
    "def verifica_pwd(cadena):\n",
    "    minusculas = 'abcdefghijklmnñopqrstuvwxyz'\n",
    "    mayusculas = minusculas.upper()\n",
    "    numeros = '0123456789'\n",
    "    s_letras = 0\n",
    "    s_numeros = 0\n",
    "\n",
    "    if len(cadena)<6 or len(cadena)>10 or 'ABC' not in cadena or ' ' in cadena:\n",
    "        return False\n",
    "    else:\n",
    "        for c in cadena:\n",
    "            if c in minusculas or c in mayusculas:\n",
    "                s_letras = s_letras+1\n",
    "            elif c in numeros:\n",
    "                s_numeros = s_numeros+1\n",
    "        if s_letras>=5 and s_numeros>=1:\n",
    "            return True\n",
    "        else:\n",
    "            return False\n",
    "        \n",
    "pwd = input('Ingrese clave: ')\n",
    "while not verifica_pwd(pwd):\n",
    "    pwd = input('Clave no cumple los requisitos\\nIngrese clave: ')\n",
    "print('clave ingresada correctamente')\n"
   ]
  },
  {
   "cell_type": "code",
   "execution_count": 1,
   "id": "7c1daba0",
   "metadata": {},
   "outputs": [
    {
     "name": "stdout",
     "output_type": "stream",
     "text": [
      "CIERTO DIA DE VERANO ESTABA EN LA PLAYA\n"
     ]
    }
   ],
   "source": [
    "#P2\n",
    "def descifrar(cadena):\n",
    "    #bonus\n",
    "cadena = 'C13R70 D14 D3 V3R4N0 357484 3N L4 PL4Y4'\n",
    "cadena_aux = descifrar(cadena)\n",
    "print(cadena_aux)"
   ]
  },
  {
   "cell_type": "code",
   "execution_count": 37,
   "id": "3ec1248e",
   "metadata": {},
   "outputs": [
    {
     "name": "stdout",
     "output_type": "stream",
     "text": [
      "15 palabras,  13 vocales a,  4 vocales e,  1 vocales i,  7 vocales o,  2 vocales u.\n"
     ]
    }
   ],
   "source": [
    "#P3: \n",
    "cadena = 'La bella y graciosa moza, marchose a lavar la ropa. La mojó en un arroyuelo'\n",
    "s_a = 0\n",
    "s_e = 0\n",
    "s_i = 0\n",
    "s_o = 0\n",
    "s_u = 0\n",
    "s_p = 0\n",
    "\n",
    "#bonus\n",
    "\n",
    "print( s_p, 'palabras, ', s_a, 'vocales a, ', s_e, 'vocales e, ', s_i, 'vocales i, ', s_o, 'vocales o, ', s_u, 'vocales u.' ) "
   ]
  },
  {
   "cell_type": "code",
   "execution_count": 31,
   "id": "725be136",
   "metadata": {},
   "outputs": [
    {
     "name": "stdout",
     "output_type": "stream",
     "text": [
      "Ingrese N: 1\n",
      "Cadena: AA A AAAAAA AAAAAA AAAA AAAAAAAAAAAAA AAAAAAAAA AAAA AAAAAA AAAAAAAA AAAAAA AAAAAAAAAAAAAAAAAAAAAAAAAA\n",
      "Error\n",
      "Cadena: ERIROM SODOTDIVOC ED SOM\n",
      "Cadena invertida: \n",
      "TODOS MORIREMOS DE COVID\n"
     ]
    }
   ],
   "source": [
    "#P4\n",
    "def invertir(cadena):\n",
    "    l = int(len(cadena)/2)\n",
    "    cadena_aux = cadena[:l][::-1]+cadena[l:][::-1]\n",
    "    return cadena_aux\n",
    "\n",
    "def verifica_criterio(cadena):\n",
    "    mayusculas = 'ABCDEFGHIKLMNÑOPQRSTUVWXYZ'\n",
    "    s = 0\n",
    "    for c in cadena:\n",
    "        if c in mayusculas or c==' ':\n",
    "            s = s+1\n",
    "    if s>100:\n",
    "        return False\n",
    "    else:\n",
    "        return True\n",
    "\n",
    "def validar(cadena):\n",
    "    while not verifica_criterio(cadena):\n",
    "        cadena = input('Error\\nCadena: ')\n",
    "    return cadena\n",
    "\n",
    "#AA A AAAAAA AAAAAA AAAA AAAAAAAAAAAAA AAAAAAAAA AAAA AAAAAA AAAAAAAA AAAAAA AAAAAAAAAAAAAAAAAAAAAAAAAA\n",
    "#ERIROM SODOTDIVOC ED SOM\n",
    "\n",
    "N = int(input('Ingrese N: '))\n",
    "i = 0\n",
    "while i<N:\n",
    "    cadena = input('Cadena: ')\n",
    "    cadena = validar(cadena)\n",
    "    cadena_aux = invertir(cadena)\n",
    "    print('Cadena invertida: \\n'+cadena_aux)\n",
    "    i = i+1"
   ]
  }
 ],
 "metadata": {
  "kernelspec": {
   "display_name": "Python 3 (ipykernel)",
   "language": "python",
   "name": "python3"
  },
  "language_info": {
   "codemirror_mode": {
    "name": "ipython",
    "version": 3
   },
   "file_extension": ".py",
   "mimetype": "text/x-python",
   "name": "python",
   "nbconvert_exporter": "python",
   "pygments_lexer": "ipython3",
   "version": "3.9.7"
  }
 },
 "nbformat": 4,
 "nbformat_minor": 5
}
