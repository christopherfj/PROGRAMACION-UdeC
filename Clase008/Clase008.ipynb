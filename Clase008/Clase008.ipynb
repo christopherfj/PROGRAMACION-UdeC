{
 "cells": [
  {
   "cell_type": "code",
   "execution_count": 1,
   "id": "7106ca4a",
   "metadata": {},
   "outputs": [
    {
     "name": "stdout",
     "output_type": "stream",
     "text": [
      "Ingrese clave: ABC\n",
      "Clave no cumple los requisitos\n",
      "Ingrese clave: ABa!\n",
      "Clave no cumple los requisitos\n",
      "Ingrese clave: ABC1\n",
      "Clave no cumple los requisitos\n",
      "Ingrese clave: AABBCC1\n",
      "clave ingresada correctamente\n"
     ]
    }
   ],
   "source": [
    "#https://elcodigoascii.com.ar/\n",
    "#P1: \n",
    "def verifica_largo(cadena):\n",
    "    if len(cadena)<6 or len(cadena)>10:\n",
    "        return False\n",
    "    else:\n",
    "        return True\n",
    "\n",
    "def verifica_letras(cadena):\n",
    "    s = 0\n",
    "    for c in cadena:\n",
    "        if ord(c)>=65 and ord(c)<=90:\n",
    "            s = s+1\n",
    "        elif ord(c)>=97 and ord(c)<=122:\n",
    "            s = s+1\n",
    "    if s >= 5 and 'A' in cadena and 'B' in cadena and 'C' in cadena:\n",
    "        return True\n",
    "    else:\n",
    "        return False\n",
    "    \n",
    "def verifica_numero(cadena):\n",
    "    s = 0\n",
    "    for c in cadena:\n",
    "        if ord(c)>=48 and ord(c)<=57:\n",
    "            s = s+1\n",
    "    if s>=1:\n",
    "        return True\n",
    "    else:\n",
    "        return False\n",
    "    \n",
    "pwd = input('Ingrese clave: ')\n",
    "while not verifica_largo(pwd) or not verifica_letras(pwd) or not verifica_numero(pwd):\n",
    "    pwd = input('Clave no cumple los requisitos\\nIngrese clave: ')\n",
    "print('clave ingresada correctamente')\n"
   ]
  },
  {
   "cell_type": "code",
   "execution_count": 1,
   "id": "7c1daba0",
   "metadata": {},
   "outputs": [
    {
     "name": "stdout",
     "output_type": "stream",
     "text": [
      "CIERTO DIA DE VERANO ESTABA EN LA PLAYA\n"
     ]
    }
   ],
   "source": [
    "#P2\n",
    "def descifrar(cadena):\n",
    "    #bonus\n",
    "cadena = 'C13R70 D14 D3 V3R4N0 357484 3N L4 PL4Y4'\n",
    "cadena_aux = descifrar(cadena)\n",
    "print(cadena_aux)"
   ]
  },
  {
   "cell_type": "code",
   "execution_count": 37,
   "id": "3ec1248e",
   "metadata": {},
   "outputs": [
    {
     "name": "stdout",
     "output_type": "stream",
     "text": [
      "15 palabras,  13 vocales a,  4 vocales e,  1 vocales i,  7 vocales o,  2 vocales u.\n"
     ]
    }
   ],
   "source": [
    "#P3: \n",
    "cadena = 'La bella y graciosa moza, marchose a lavar la ropa. La mojó en un arroyuelo'\n",
    "s_a = 0\n",
    "s_e = 0\n",
    "s_i = 0\n",
    "s_o = 0\n",
    "s_u = 0\n",
    "s_p = 0\n",
    "\n",
    "#bonus\n",
    "\n",
    "print( s_p, 'palabras, ', s_a, 'vocales a, ', s_e, 'vocales e, ', s_i, 'vocales i, ', s_o, 'vocales o, ', s_u, 'vocales u.' ) "
   ]
  },
  {
   "cell_type": "code",
   "execution_count": 58,
   "id": "725be136",
   "metadata": {},
   "outputs": [
    {
     "name": "stdout",
     "output_type": "stream",
     "text": [
      "Ingrese N: 1\n",
      "Cadena: ERIROM SODOTDIVOC ED SOMaa\n",
      "Cadena: ERIROM SODOTDIVOC ED SOMqqqq\n",
      "Cadena: ERIROM SODOTDIVOC ED SOM\n",
      "TODOS MORIREMOS DE COVID\n"
     ]
    }
   ],
   "source": [
    "#P4\n",
    "#ERIROM SODOTDIVOC ED SOM\n",
    "def invertir(cadena):\n",
    "    l = int(len(cadena)/2)\n",
    "    cadena_aux = ''\n",
    "    cadena_aux_i = cadena[0:l]\n",
    "    cadena_aux_d = cadena[l:]\n",
    "    for i in range(l-1, -1, -1):\n",
    "        cadena_aux = cadena_aux+cadena_aux_i[i]\n",
    "    for i in range(l-1, -1, -1):\n",
    "        cadena_aux = cadena_aux+cadena_aux_d[i]\n",
    "    return cadena_aux\n",
    "\n",
    "def verifica_criterio(cadena):\n",
    "    s_m = 0\n",
    "    s_e = 0\n",
    "    for c in cadena:\n",
    "        if ord(c)>=65 and ord(c)<=90:\n",
    "            s_m = s_m+1\n",
    "        elif c==' ':\n",
    "            s_e = s_e+1\n",
    "    if s_m<100 and (s_m+s_e)!=len(cadena):\n",
    "        return False\n",
    "    else:\n",
    "        return True\n",
    "\n",
    "def validar(cadena):\n",
    "    while not verifica_criterio(cadena):\n",
    "        cadena = input('Cadena: ')\n",
    "    return cadena\n",
    "\n",
    "N = int(input('Ingrese N: '))\n",
    "i = 0\n",
    "while i<N:\n",
    "    cadena = input('Cadena: ')\n",
    "    cadena = validar(cadena)\n",
    "    cadena_aux = invertir(cadena)\n",
    "    print(cadena_aux)\n",
    "    i = i+1"
   ]
  }
 ],
 "metadata": {
  "kernelspec": {
   "display_name": "Python 3 (ipykernel)",
   "language": "python",
   "name": "python3"
  },
  "language_info": {
   "codemirror_mode": {
    "name": "ipython",
    "version": 3
   },
   "file_extension": ".py",
   "mimetype": "text/x-python",
   "name": "python",
   "nbconvert_exporter": "python",
   "pygments_lexer": "ipython3",
   "version": "3.9.7"
  }
 },
 "nbformat": 4,
 "nbformat_minor": 5
}
