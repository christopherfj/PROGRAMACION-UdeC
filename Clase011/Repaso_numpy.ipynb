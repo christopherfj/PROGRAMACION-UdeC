{
 "cells": [
  {
   "cell_type": "code",
   "execution_count": 1,
   "id": "4a37a87d",
   "metadata": {},
   "outputs": [],
   "source": [
    "import numpy as np"
   ]
  },
  {
   "cell_type": "code",
   "execution_count": 2,
   "id": "22a506e3",
   "metadata": {},
   "outputs": [
    {
     "name": "stdout",
     "output_type": "stream",
     "text": [
      "[0 1 2]\n"
     ]
    }
   ],
   "source": [
    "#Cree un arreglo de Numpy en base a una lista\n",
    "lista = [0, 1, 2]\n",
    "a = np.array(lista)\n",
    "print(a)"
   ]
  },
  {
   "cell_type": "code",
   "execution_count": 3,
   "id": "f9ac8884",
   "metadata": {},
   "outputs": [
    {
     "name": "stdout",
     "output_type": "stream",
     "text": [
      "[0. 1. 2.]\n"
     ]
    }
   ],
   "source": [
    "#Cree un arreglo de datos de punto flotante de 32 bits\n",
    "a = np.array(lista, dtype = \"float32\")\n",
    "print(a)"
   ]
  },
  {
   "cell_type": "code",
   "execution_count": 4,
   "id": "fe7f4a6c",
   "metadata": {},
   "outputs": [
    {
     "name": "stdout",
     "output_type": "stream",
     "text": [
      "[0 1 2 3 4 5 6 7 8 9]\n"
     ]
    }
   ],
   "source": [
    "#Cree un arreglo de 10 elementos\n",
    "n = 10\n",
    "a = np.arange(n)\n",
    "print(a)"
   ]
  },
  {
   "cell_type": "code",
   "execution_count": 5,
   "id": "9368b339",
   "metadata": {},
   "outputs": [
    {
     "name": "stdout",
     "output_type": "stream",
     "text": [
      "[ 5  7  9 11 13 15 17 19]\n"
     ]
    }
   ],
   "source": [
    "#Cree un arreglo en el rango [a,b) en pasos de 2\n",
    "a, b = 5, 20\n",
    "a = np.arange(a, b, 2)\n",
    "print(a)"
   ]
  },
  {
   "cell_type": "code",
   "execution_count": 6,
   "id": "b75f1aff",
   "metadata": {},
   "outputs": [
    {
     "name": "stdout",
     "output_type": "stream",
     "text": [
      "[0.+0.j 1.+0.j 2.+0.j 3.+0.j 4.+0.j]\n"
     ]
    }
   ],
   "source": [
    "#Cree un arreglo de n valores complejos\n",
    "n = 5\n",
    "a = np.arange(n, dtype = \"complex\")\n",
    "print(a)"
   ]
  },
  {
   "cell_type": "code",
   "execution_count": 7,
   "id": "cc392a31",
   "metadata": {},
   "outputs": [
    {
     "name": "stdout",
     "output_type": "stream",
     "text": [
      "[0 1 2 3 4]\n"
     ]
    }
   ],
   "source": [
    "#Obtenga los primeros n elementos de un arreglo\n",
    "n = 5\n",
    "a = np.arange(10)\n",
    "print(a[:n])"
   ]
  },
  {
   "cell_type": "code",
   "execution_count": 8,
   "id": "a738c991",
   "metadata": {},
   "outputs": [
    {
     "name": "stdout",
     "output_type": "stream",
     "text": [
      "[ 1 21 22  1 24 25  1 27 28  1 30 31  1 33 34]\n"
     ]
    }
   ],
   "source": [
    "#Cambie cada 3 valores de un arreglo por el valor 1\n",
    "a = np.arange(20, 35)\n",
    "a[::3] = 1\n",
    "print(a)"
   ]
  },
  {
   "cell_type": "code",
   "execution_count": 9,
   "id": "b128ddab",
   "metadata": {},
   "outputs": [
    {
     "name": "stdout",
     "output_type": "stream",
     "text": [
      "[[1 2 3]\n",
      " [4 5 6]\n",
      " [7 8 9]]\n",
      "[[[1 2]\n",
      "  [3 4]]\n",
      "\n",
      " [[5 6]\n",
      "  [7 8]]]\n"
     ]
    }
   ],
   "source": [
    "#Cree un arreglo de dimensiones 3*3 en base a una lista de las mismas dimensiones y\n",
    "#un arreglo de 2*2*2 en base a una lista de dimensión 1\n",
    "A = np.array([[1, 2, 3],\n",
    "              [4, 5, 6],\n",
    "              [7, 8, 9]])\n",
    "B = np.array([1, 2, 3, 4, 5, 6, 7, 8]).reshape(2, 2, 2)\n",
    "print(A)\n",
    "print(B)"
   ]
  },
  {
   "cell_type": "code",
   "execution_count": 10,
   "id": "2268a0a1",
   "metadata": {},
   "outputs": [
    {
     "name": "stdout",
     "output_type": "stream",
     "text": [
      "[1 2 3 4 5 6 7 8 9]\n",
      "[1 2 3 4 5 6 7 8]\n"
     ]
    }
   ],
   "source": [
    "#Obtenga un arreglo plano de un arreglo multidimensional\n",
    "a = A.ravel() # Aplana el arreglo.\n",
    "b = B.flatten()\t# Crea una copia plana.\n",
    "print(a)\n",
    "print(b)"
   ]
  },
  {
   "cell_type": "code",
   "execution_count": 11,
   "id": "d8f145ad",
   "metadata": {},
   "outputs": [
    {
     "name": "stdout",
     "output_type": "stream",
     "text": [
      "[0. 0. 0. 0. 0. 0. 0. 0. 0. 0.]\n",
      "[1. 1. 1. 1. 1. 1. 1. 1. 1. 1.]\n"
     ]
    }
   ],
   "source": [
    "#Cree un arreglo de ceros y un arreglo de unos\n",
    "z = np.zeros(10)\n",
    "o = np.ones(10)\n",
    "print(z)\n",
    "print(o)"
   ]
  },
  {
   "cell_type": "code",
   "execution_count": 12,
   "id": "6b2aab15",
   "metadata": {},
   "outputs": [
    {
     "name": "stdout",
     "output_type": "stream",
     "text": [
      "[[0. 1. 0. 1. 0. 1. 0. 1.]\n",
      " [1. 0. 1. 0. 1. 0. 1. 0.]\n",
      " [0. 1. 0. 1. 0. 1. 0. 1.]\n",
      " [1. 0. 1. 0. 1. 0. 1. 0.]\n",
      " [0. 1. 0. 1. 0. 1. 0. 1.]\n",
      " [1. 0. 1. 0. 1. 0. 1. 0.]\n",
      " [0. 1. 0. 1. 0. 1. 0. 1.]\n",
      " [1. 0. 1. 0. 1. 0. 1. 0.]]\n"
     ]
    }
   ],
   "source": [
    "#Cree un arreglo bidimensional (8x8) en patrón de tablero de ajedrez usando 0 y 1\n",
    "t = np.zeros((8, 8))\n",
    "t[::2, 1::2] = 1\n",
    "t[1::2, ::2] = 1\n",
    "print(t)"
   ]
  },
  {
   "cell_type": "code",
   "execution_count": 13,
   "id": "7e7ea607",
   "metadata": {},
   "outputs": [
    {
     "name": "stdout",
     "output_type": "stream",
     "text": [
      "[[1. 0. 0. 0. 0.]\n",
      " [0. 1. 0. 0. 0.]\n",
      " [0. 0. 1. 0. 0.]\n",
      " [0. 0. 0. 1. 0.]\n",
      " [0. 0. 0. 0. 1.]]\n"
     ]
    }
   ],
   "source": [
    "#Cree una matriz identidad\n",
    "I = np.eye(5)\n",
    "print(I)"
   ]
  },
  {
   "cell_type": "code",
   "execution_count": 14,
   "id": "3a325191",
   "metadata": {},
   "outputs": [
    {
     "name": "stdout",
     "output_type": "stream",
     "text": [
      "[  0 100 200 300 400 500 600 700 800 900]\n"
     ]
    }
   ],
   "source": [
    "#Multiplique todos los elementos de un arreglo por 100\n",
    "a = np.arange(10)*100\n",
    "print(a)"
   ]
  },
  {
   "cell_type": "code",
   "execution_count": 15,
   "id": "3d2d2ba8",
   "metadata": {},
   "outputs": [
    {
     "name": "stdout",
     "output_type": "stream",
     "text": [
      "[    0   101   204   309   416   525   636   749   864   981  1100  1221\n",
      "  1344  1469  1596  1725  1856  1989  2124  2261  2400  2541  2684  2829\n",
      "  2976  3125  3276  3429  3584  3741  3900  4061  4224  4389  4556  4725\n",
      "  4896  5069  5244  5421  5600  5781  5964  6149  6336  6525  6716  6909\n",
      "  7104  7301  7500  7701  7904  8109  8316  8525  8736  8949  9164  9381\n",
      "  9600  9821 10044 10269 10496 10725 10956 11189 11424 11661 11900 12141\n",
      " 12384 12629 12876 13125 13376 13629 13884 14141 14400 14661 14924 15189\n",
      " 15456 15725 15996 16269 16544 16821 17100 17381 17664 17949 18236 18525\n",
      " 18816 19109 19404 19701]\n"
     ]
    }
   ],
   "source": [
    "#Calcule la multiplicación elemento a elemento de dos arreglos del mismo largo\n",
    "a = np.arange(100)\n",
    "b = np.arange(100, 200)\n",
    "print(a*b)"
   ]
  },
  {
   "cell_type": "code",
   "execution_count": 16,
   "id": "5e4f57fe",
   "metadata": {},
   "outputs": [
    {
     "name": "stdout",
     "output_type": "stream",
     "text": [
      "[[ 5 12]\n",
      " [21 32]]\n",
      "[[19 22]\n",
      " [43 50]]\n",
      "[[19 22]\n",
      " [43 50]]\n"
     ]
    }
   ],
   "source": [
    "# Calcule la multiplicación elemento a elemento y el producto punto de dos matrices de dimensiones iguales\n",
    "A = np.array([1, 2, 3, 4]).reshape(2, 2)\n",
    "B = np.array([5, 6, 7, 8]).reshape(2, 2)\n",
    "print(A*B)\n",
    "print(np.dot(A, B))\n",
    "A = np.matrix(A)\n",
    "B = np.matrix(B)\n",
    "print(A*B)"
   ]
  },
  {
   "cell_type": "code",
   "execution_count": 17,
   "id": "61cd4fe6",
   "metadata": {},
   "outputs": [
    {
     "name": "stdout",
     "output_type": "stream",
     "text": [
      "[6.23042070e-307 4.67296746e-307 1.69121096e-306 1.60219442e-306\n",
      " 1.37962456e-306 1.60219035e-306 7.56587585e-307 1.37961302e-306\n",
      " 1.05699242e-307 8.01097889e-307 1.78020169e-306 7.56601165e-307\n",
      " 1.02359984e-306 1.33510679e-306 2.22522597e-306 8.01097889e-307\n",
      " 1.86920057e-306 1.11261027e-306 1.42410974e-306 2.22520559e-306]\n"
     ]
    }
   ],
   "source": [
    "#Cree un arreglo vacío de 20 elementos.\n",
    "e = np.empty(20)\n",
    "print(e)"
   ]
  },
  {
   "cell_type": "code",
   "execution_count": 18,
   "id": "ff94a486",
   "metadata": {},
   "outputs": [
    {
     "name": "stdout",
     "output_type": "stream",
     "text": [
      "[ 0.   0.5  1.   1.5  2.   2.5  3.   3.5  4.   4.5  5.   5.5  6.   6.5\n",
      "  7.   7.5  8.   8.5  9.   9.5 10. ]\n"
     ]
    }
   ],
   "source": [
    "#Cree un arreglo con los valores de n divisiones en el rango [a,b]\n",
    "a, b, n = 0, 10, 21\n",
    "l = np.linspace(a, b, n)\n",
    "print(l)"
   ]
  },
  {
   "cell_type": "code",
   "execution_count": 19,
   "id": "e8424756",
   "metadata": {},
   "outputs": [
    {
     "name": "stdout",
     "output_type": "stream",
     "text": [
      "[0.61874438 0.12823968 0.48132166 0.59274014 0.02758583]\n",
      "[[0.78793808 0.48953622 0.40988094 0.96710556]\n",
      " [0.65880607 0.42891854 0.74366703 0.33928938]\n",
      " [0.84900142 0.57138013 0.33233585 0.06418571]\n",
      " [0.20838372 0.21980362 0.00911902 0.21977962]\n",
      " [0.279154   0.86709009 0.77229349 0.10131772]]\n"
     ]
    }
   ],
   "source": [
    "#Cree un arreglo con n elementos al azar y uno de n * m\n",
    "n, m = 5, 4\n",
    "r = np.random.random(n)\n",
    "R = np.random.random((n, m))\n",
    "print(r)\n",
    "print(R)"
   ]
  },
  {
   "cell_type": "code",
   "execution_count": 20,
   "id": "327c828c",
   "metadata": {},
   "outputs": [
    {
     "name": "stdout",
     "output_type": "stream",
     "text": [
      "[3 1 1 1 7 9 5 2 6 6 5 9 7 6 7 4 7 6 8 5 2 2 1 0 5 8 4 0 1 6 3 9 2 4 8 2 7\n",
      " 0 6 6 2 2 8 0 5 7 5 2 9 8 0 9 4 0 4 0 7 0 0 4 3 6 0 2 4 6 7 1 9 9 1 4 8 1\n",
      " 9 6 1 4 8 1 9 3 9 4 5 9 9 9 3 2 4 8 2 2 4 4 2 9 8 1]\n"
     ]
    }
   ],
   "source": [
    "# Cree un arreglo al azar de n elementos enteros en el rango [0,10)\n",
    "n = 100\n",
    "r = np.random.randint(0, 10, n)\n",
    "print(r)"
   ]
  },
  {
   "cell_type": "code",
   "execution_count": 21,
   "id": "38ff582e",
   "metadata": {},
   "outputs": [
    {
     "name": "stdout",
     "output_type": "stream",
     "text": [
      "4950\n"
     ]
    }
   ],
   "source": [
    "#Obtenga la suma de todos los valores de un arreglo\n",
    "s = np.sum(np.arange(100))\n",
    "print(s)"
   ]
  },
  {
   "cell_type": "code",
   "execution_count": 22,
   "id": "72a5479d",
   "metadata": {},
   "outputs": [
    {
     "name": "stdout",
     "output_type": "stream",
     "text": [
      "0.9982080723837975\n"
     ]
    }
   ],
   "source": [
    "#Obtenga el valor máximo de un arreglo\n",
    "r = np.random.random(100)\n",
    "print(r.max())"
   ]
  },
  {
   "cell_type": "code",
   "execution_count": 23,
   "id": "2f50c0ab",
   "metadata": {},
   "outputs": [
    {
     "name": "stdout",
     "output_type": "stream",
     "text": [
      "[  0 100 200 300 400 500 600 700 800 900   0   1   2   3   4]\n"
     ]
    }
   ],
   "source": [
    "#Concatene dos arreglos unidimensionales\n",
    "a = np.arange(10)*100\n",
    "b = np.arange(5)\n",
    "print(np.concatenate((a, b)))"
   ]
  },
  {
   "cell_type": "code",
   "execution_count": 24,
   "id": "fa15a4a9",
   "metadata": {},
   "outputs": [
    {
     "name": "stdout",
     "output_type": "stream",
     "text": [
      "[[1 2]\n",
      " [3 4]\n",
      " [5 6]\n",
      " [7 8]\n",
      " [1 2]\n",
      " [3 4]]\n",
      "[[1 2 1]\n",
      " [3 4 2]\n",
      " [5 6 3]\n",
      " [7 8 4]]\n"
     ]
    }
   ],
   "source": [
    "#Concatene dos arreglos verticalmente y dos horizontalmente\n",
    "A = np.array([[1, 2],\n",
    "              [3, 4],\n",
    "              [5, 6],\n",
    "              [7, 8]])\n",
    "B = np.array([[1, 2],\n",
    "              [3, 4]])\n",
    "print(np.vstack((A, B)))\n",
    "B = B.reshape(4, 1)\n",
    "print(np.hstack((A, B)))#o column_stack((A,B))"
   ]
  },
  {
   "cell_type": "code",
   "execution_count": 25,
   "id": "d421c341",
   "metadata": {},
   "outputs": [
    {
     "name": "stdout",
     "output_type": "stream",
     "text": [
      "[0 0 2 2 0 0 2 2 0 0]\n"
     ]
    }
   ],
   "source": [
    "#Dado un arreglo arbitrario aplique una máscara de bits a cada elemento de este\n",
    "r = np.bitwise_and(np.arange(10),0b0010) #np.arange(10) & 0b0010\n",
    "print(r)"
   ]
  },
  {
   "cell_type": "code",
   "execution_count": 26,
   "id": "057c59de",
   "metadata": {},
   "outputs": [
    {
     "name": "stdout",
     "output_type": "stream",
     "text": [
      "[[1 0 1]\n",
      " [1 0 0]\n",
      " [0 0 1]]\n"
     ]
    }
   ],
   "source": [
    "#Encuentre los elementos distintos entre dos arreglos de estados binarios\n",
    "A = np.array([[0, 1, 1],\n",
    "              [1, 0, 0],\n",
    "              [0, 1, 0]])\n",
    "B = np.array([[1, 1, 0],\n",
    "              [0, 0, 0],\n",
    "              [0, 1, 1]])\n",
    "print(np.bitwise_xor(A,B))#A^B"
   ]
  },
  {
   "cell_type": "code",
   "execution_count": 27,
   "id": "47bfcf7b",
   "metadata": {},
   "outputs": [
    {
     "name": "stdout",
     "output_type": "stream",
     "text": [
      "[0.77281259 0.22197294 0.77156135 0.86394795 0.90794586 0.33942077\n",
      " 0.715528   0.90194253 0.67088897 0.50640233 0.68054912 0.49819823\n",
      " 0.9524982  0.76810142 0.21560446 0.32563529 0.72757684 0.25549668\n",
      " 0.80728759 0.48577734 0.56361037 0.93442985 0.73615782 0.89524358\n",
      " 0.28028494 0.18790494 0.26718386 0.86728749 0.71364028 0.61652474]\n"
     ]
    }
   ],
   "source": [
    "#Dado tres arreglos x, y, z, obtenga una arreglo nuevo con los elementos de estos intercalados\n",
    "x = np.random.random(10)\n",
    "y = np.random.random(10)\n",
    "z = np.random.random(10)\n",
    "n = np.empty(3*len(x))\n",
    "n[::3] = x\n",
    "n[1::3] = y\n",
    "n[2::3] = z\n",
    "print(n)"
   ]
  }
 ],
 "metadata": {
  "kernelspec": {
   "display_name": "Python 3 (ipykernel)",
   "language": "python",
   "name": "python3"
  },
  "language_info": {
   "codemirror_mode": {
    "name": "ipython",
    "version": 3
   },
   "file_extension": ".py",
   "mimetype": "text/x-python",
   "name": "python",
   "nbconvert_exporter": "python",
   "pygments_lexer": "ipython3",
   "version": "3.9.7"
  }
 },
 "nbformat": 4,
 "nbformat_minor": 5
}
