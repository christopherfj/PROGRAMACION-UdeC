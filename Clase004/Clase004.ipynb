{
 "cells": [
  {
   "cell_type": "code",
   "execution_count": 1,
   "metadata": {
    "id": "iEkE2E4EgeNQ"
   },
   "outputs": [],
   "source": [
    "#Ejercicios 1-5 son de la guía anterior"
   ]
  },
  {
   "cell_type": "code",
   "execution_count": 2,
   "metadata": {
    "colab": {
     "base_uri": "https://localhost:8080/"
    },
    "executionInfo": {
     "elapsed": 3598,
     "status": "ok",
     "timestamp": 1652228922950,
     "user": {
      "displayName": "Christopher Flores",
      "userId": "09536310764135798173"
     },
     "user_tz": 240
    },
    "id": "nbI3f2wgYdq5",
    "outputId": "3280fb01-35fc-4d87-dcd6-b2ac90adb5c8"
   },
   "outputs": [
    {
     "name": "stdout",
     "output_type": "stream",
     "text": [
      "Ingrese entero (x): 4\n",
      "Ingrese entero (y): 4\n",
      "4 es mayor que 4\n"
     ]
    }
   ],
   "source": [
    "#P6\n",
    "x = int(input('Ingrese entero (x): '))\n",
    "y = int(input('Ingrese entero (y): '))\n",
    "if x>=y: #incluye iguales esta condición\n",
    "    print(f'{x} es mayor que {y}')\n",
    "else:\n",
    "    print(f'{y} es mayor que {x}')"
   ]
  },
  {
   "cell_type": "code",
   "execution_count": 3,
   "metadata": {
    "colab": {
     "base_uri": "https://localhost:8080/"
    },
    "executionInfo": {
     "elapsed": 29076,
     "status": "ok",
     "timestamp": 1652228970039,
     "user": {
      "displayName": "Christopher Flores",
      "userId": "09536310764135798173"
     },
     "user_tz": 240
    },
    "id": "y0DJGBGCftNG",
    "outputId": "22fa24a0-3785-4b1a-ed1d-af97b34a6114"
   },
   "outputs": [
    {
     "name": "stdout",
     "output_type": "stream",
     "text": [
      "Ingrese numero entero (v): 160\n",
      "Ingrese numero entero (v): 720\n",
      "Ingrese numero entero (v): 530\n",
      "Ingrese numero entero (v): 150\n",
      "Ingrese numero entero (v): -1\n",
      "Error, valor mal ingresado\n",
      "Ingrese numero entero (v): 0\n",
      "1404.0\n"
     ]
    }
   ],
   "source": [
    "#P7\n",
    "v = -1\n",
    "s = 0\n",
    "while v!=0:\n",
    "    v = int(input('Ingrese numero entero (v): '))\n",
    "    if v<0:\n",
    "        print('Error, valor mal ingresado')\n",
    "    else:\n",
    "        s = s+v #equivalente a: s+=v\n",
    "if s>1000:\n",
    "    s = s*0.9 #equivalente a: s*=0.9\n",
    "print(s)"
   ]
  }
 ],
 "metadata": {
  "colab": {
   "authorship_tag": "ABX9TyMOIjPGMhvr84KAoJQSSD8I",
   "collapsed_sections": [],
   "name": "ejercicios_resueltos_clases.ipynb",
   "provenance": []
  },
  "kernelspec": {
   "display_name": "Python 3 (ipykernel)",
   "language": "python",
   "name": "python3"
  },
  "language_info": {
   "codemirror_mode": {
    "name": "ipython",
    "version": 3
   },
   "file_extension": ".py",
   "mimetype": "text/x-python",
   "name": "python",
   "nbconvert_exporter": "python",
   "pygments_lexer": "ipython3",
   "version": "3.9.7"
  }
 },
 "nbformat": 4,
 "nbformat_minor": 1
}
