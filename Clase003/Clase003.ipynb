{
 "cells": [
  {
   "cell_type": "code",
   "execution_count": 1,
   "metadata": {
    "colab": {
     "base_uri": "https://localhost:8080/"
    },
    "executionInfo": {
     "elapsed": 11,
     "status": "ok",
     "timestamp": 1652227444845,
     "user": {
      "displayName": "Christopher Flores",
      "userId": "09536310764135798173"
     },
     "user_tz": 240
    },
    "id": "7pyhG92vXO3f",
    "outputId": "8e1720cb-730d-4bdc-ef90-a9a31ec27368"
   },
   "outputs": [
    {
     "name": "stdout",
     "output_type": "stream",
     "text": [
      "Hola mundo\n"
     ]
    }
   ],
   "source": [
    "#P1\n",
    "print(\"Hola mundo\") #'comillas simples o dobles'"
   ]
  },
  {
   "cell_type": "code",
   "execution_count": 2,
   "metadata": {
    "colab": {
     "base_uri": "https://localhost:8080/"
    },
    "executionInfo": {
     "elapsed": 4,
     "status": "ok",
     "timestamp": 1652227448542,
     "user": {
      "displayName": "Christopher Flores",
      "userId": "09536310764135798173"
     },
     "user_tz": 240
    },
    "id": "rPMf91poZYwE",
    "outputId": "acc67f6b-5f19-408e-f623-aa74cdebdbf8"
   },
   "outputs": [
    {
     "name": "stdout",
     "output_type": "stream",
     "text": [
      "Hola mundo\n",
      "Hola mundo\n",
      "Hola mundo\n",
      "Hola mundo\n",
      "Hola mundo\n"
     ]
    }
   ],
   "source": [
    "#P2\n",
    "i = 0\n",
    "while i<5:\n",
    "    print(\"Hola mundo\")\n",
    "    i = i+1 #equivalente a i+=1"
   ]
  },
  {
   "cell_type": "code",
   "execution_count": 3,
   "metadata": {
    "colab": {
     "base_uri": "https://localhost:8080/"
    },
    "executionInfo": {
     "elapsed": 2743,
     "status": "ok",
     "timestamp": 1652227470144,
     "user": {
      "displayName": "Christopher Flores",
      "userId": "09536310764135798173"
     },
     "user_tz": 240
    },
    "id": "FHNw62qKZo2b",
    "outputId": "2eeadeb5-b054-42ca-ed43-e8d128e6fd47"
   },
   "outputs": [
    {
     "name": "stdout",
     "output_type": "stream",
     "text": [
      "Ingrese valor de radio (r): 3\n",
      "28.26\n"
     ]
    }
   ],
   "source": [
    "#P3\n",
    "r = int(input('Ingrese valor de radio (r): '))\n",
    "A = 3.14*(r**2) #r**2 equivale a r*r o a pow(r,2)\n",
    "print(A)"
   ]
  },
  {
   "cell_type": "code",
   "execution_count": 4,
   "metadata": {
    "colab": {
     "base_uri": "https://localhost:8080/"
    },
    "executionInfo": {
     "elapsed": 16384,
     "status": "ok",
     "timestamp": 1652227494995,
     "user": {
      "displayName": "Christopher Flores",
      "userId": "09536310764135798173"
     },
     "user_tz": 240
    },
    "id": "kbHJE2IUZ0vU",
    "outputId": "3685ca39-6604-4caf-b315-6e915d5d2009"
   },
   "outputs": [
    {
     "name": "stdout",
     "output_type": "stream",
     "text": [
      "Ingrese numero entero (n): 9\n",
      "9,8,7,6\n"
     ]
    }
   ],
   "source": [
    "#P4\n",
    "n = int(input('Ingrese numero entero (n): '))\n",
    "print(f'{n},{n-1},{n-2},{n-3}') #entre {} van las variables al usar este tipo de print usando f''"
   ]
  },
  {
   "cell_type": "code",
   "execution_count": 5,
   "metadata": {
    "colab": {
     "base_uri": "https://localhost:8080/"
    },
    "executionInfo": {
     "elapsed": 7496,
     "status": "ok",
     "timestamp": 1652227522788,
     "user": {
      "displayName": "Christopher Flores",
      "userId": "09536310764135798173"
     },
     "user_tz": 240
    },
    "id": "zF5D3gW4Z5Z1",
    "outputId": "f399f01d-85c6-4443-fb7e-41a7c64c56cf"
   },
   "outputs": [
    {
     "name": "stdout",
     "output_type": "stream",
     "text": [
      "Ingrese numero entero (n): 13\n",
      "Ingrese numero entero (m): -17\n",
      "14 y -18\n"
     ]
    }
   ],
   "source": [
    "#P5\n",
    "n = int(input('Ingrese numero entero (n): '))\n",
    "m = int(input('Ingrese numero entero (m): '))\n",
    "print(f'{n+1} y {m-1}')"
   ]
  },
  {
   "cell_type": "code",
   "execution_count": 6,
   "metadata": {
    "colab": {
     "base_uri": "https://localhost:8080/"
    },
    "executionInfo": {
     "elapsed": 9796,
     "status": "ok",
     "timestamp": 1652227543895,
     "user": {
      "displayName": "Christopher Flores",
      "userId": "09536310764135798173"
     },
     "user_tz": 240
    },
    "id": "epFDxykDZ92j",
    "outputId": "9eaf6a8c-fe17-4529-c8c5-870cbe9b4339"
   },
   "outputs": [
    {
     "name": "stdout",
     "output_type": "stream",
     "text": [
      "Ingrese numero entero (n): 3\n",
      "Ingrese numero entero (m): 9\n",
      "n = 9, m = 3\n"
     ]
    }
   ],
   "source": [
    "#P6\n",
    "n = int(input('Ingrese numero entero (n): '))\n",
    "m = int(input('Ingrese numero entero (m): '))\n",
    "aux = n\n",
    "n = m #aca se pierde el valor de n\n",
    "m = aux #uso la variable auxiliar\n",
    "print(f'n = {n}, m = {m}') "
   ]
  },
  {
   "cell_type": "code",
   "execution_count": 7,
   "metadata": {
    "colab": {
     "base_uri": "https://localhost:8080/"
    },
    "executionInfo": {
     "elapsed": 9767,
     "status": "ok",
     "timestamp": 1652227566041,
     "user": {
      "displayName": "Christopher Flores",
      "userId": "09536310764135798173"
     },
     "user_tz": 240
    },
    "id": "81L72uzCaCUs",
    "outputId": "90d72b64-0e1f-4a0b-b79d-5b6b96501289"
   },
   "outputs": [
    {
     "name": "stdout",
     "output_type": "stream",
     "text": [
      "Ingrese numero entero (n): 3\n",
      "Ingrese numero entero (m): 9\n",
      "Ingrese numero entero (p): 4\n",
      "n = 9, m = 4, p = 3\n"
     ]
    }
   ],
   "source": [
    "#P7\n",
    "n = int(input('Ingrese numero entero (n): '))\n",
    "m = int(input('Ingrese numero entero (m): '))\n",
    "p = int(input('Ingrese numero entero (p): '))\n",
    "aux = n\n",
    "n = m\n",
    "m = p\n",
    "p = aux\n",
    "print(f'n = {n}, m = {m}, p = {p}')"
   ]
  },
  {
   "cell_type": "code",
   "execution_count": 8,
   "metadata": {
    "colab": {
     "base_uri": "https://localhost:8080/"
    },
    "executionInfo": {
     "elapsed": 9098,
     "status": "ok",
     "timestamp": 1652227599650,
     "user": {
      "displayName": "Christopher Flores",
      "userId": "09536310764135798173"
     },
     "user_tz": 240
    },
    "id": "e9AtsRDNaGEH",
    "outputId": "d96ad748-2ff4-4fa9-ebb3-0219ce3b8172"
   },
   "outputs": [
    {
     "name": "stdout",
     "output_type": "stream",
     "text": [
      "Ingrese numero entero (n): 3\n",
      "Ingrese numero entero (m): 9\n",
      "Ingrese numero entero (p): 4\n",
      "16\n"
     ]
    }
   ],
   "source": [
    "#P8\n",
    "n = int(input('Ingrese numero entero (n): '))\n",
    "m = int(input('Ingrese numero entero (m): '))\n",
    "p = int(input('Ingrese numero entero (p): '))\n",
    "suma = n+m+p\n",
    "print(suma)"
   ]
  },
  {
   "cell_type": "code",
   "execution_count": 9,
   "metadata": {
    "colab": {
     "base_uri": "https://localhost:8080/"
    },
    "executionInfo": {
     "elapsed": 13264,
     "status": "ok",
     "timestamp": 1652227626344,
     "user": {
      "displayName": "Christopher Flores",
      "userId": "09536310764135798173"
     },
     "user_tz": 240
    },
    "id": "L0WcZ_hMaJjR",
    "outputId": "fa2b04fb-9320-479c-a6f9-1940cfff3049"
   },
   "outputs": [
    {
     "name": "stdout",
     "output_type": "stream",
     "text": [
      "Ingrese numero entero (r): 3\n",
      "Positivo\n"
     ]
    }
   ],
   "source": [
    "#P9\n",
    "r = int(input('Ingrese numero entero (r): '))\n",
    "if r>0:\n",
    "    print('Positivo')"
   ]
  },
  {
   "cell_type": "code",
   "execution_count": 10,
   "metadata": {
    "colab": {
     "base_uri": "https://localhost:8080/"
    },
    "executionInfo": {
     "elapsed": 19887,
     "status": "ok",
     "timestamp": 1652227650950,
     "user": {
      "displayName": "Christopher Flores",
      "userId": "09536310764135798173"
     },
     "user_tz": 240
    },
    "id": "inf77R1raM_u",
    "outputId": "92209e9e-4b5d-4539-f347-0d5b6257c587"
   },
   "outputs": [
    {
     "name": "stdout",
     "output_type": "stream",
     "text": [
      "Ingrese numero entero (r): 3\n",
      "No negativo\n"
     ]
    }
   ],
   "source": [
    "#P10\n",
    "r = int(input('Ingrese numero entero (r): '))\n",
    "if r>=0:\n",
    "    print('No negativo')\n",
    "else:\n",
    "    print('Negativo')"
   ]
  },
  {
   "cell_type": "code",
   "execution_count": 11,
   "metadata": {
    "colab": {
     "base_uri": "https://localhost:8080/"
    },
    "executionInfo": {
     "elapsed": 4573,
     "status": "ok",
     "timestamp": 1652227675311,
     "user": {
      "displayName": "Christopher Flores",
      "userId": "09536310764135798173"
     },
     "user_tz": 240
    },
    "id": "gRTvdH5jaXz-",
    "outputId": "41d55222-22f8-460e-dffc-e99ad80464c6"
   },
   "outputs": [
    {
     "name": "stdout",
     "output_type": "stream",
     "text": [
      "Ingrese numero entero (r): 0\n",
      "Cero\n"
     ]
    }
   ],
   "source": [
    "#P11\n",
    "r = int(input('Ingrese numero entero (r): '))\n",
    "if r>0:\n",
    "    print('Positivo')\n",
    "elif r<0:\n",
    "    print('Negativo')\n",
    "else:\n",
    "    print('Cero')"
   ]
  },
  {
   "cell_type": "code",
   "execution_count": 12,
   "metadata": {
    "colab": {
     "base_uri": "https://localhost:8080/"
    },
    "executionInfo": {
     "elapsed": 20122,
     "status": "ok",
     "timestamp": 1652227923915,
     "user": {
      "displayName": "Christopher Flores",
      "userId": "09536310764135798173"
     },
     "user_tz": 240
    },
    "id": "l0z_AsqXaeQ8",
    "outputId": "0d5cf8b2-9444-4313-c097-21e4e695ff69"
   },
   "outputs": [
    {
     "name": "stdout",
     "output_type": "stream",
     "text": [
      "Ingrese numero entero (r): 0\n",
      "Error, valor mal ingresado\n",
      "Ingrese numero entero (r): -2\n",
      "Error, valor mal ingresado\n",
      "Ingrese numero entero (r): 0\n",
      "Error, valor mal ingresado\n",
      "Ingrese numero entero (r): 2\n",
      "2\n"
     ]
    }
   ],
   "source": [
    "#P12\n",
    "r = int(input('Ingrese numero entero (r): '))\n",
    "while r<=0:\n",
    "    r = int(input('Error, valor mal ingresado\\nIngrese numero entero (r): '))\n",
    "print(r)"
   ]
  },
  {
   "cell_type": "code",
   "execution_count": 13,
   "metadata": {
    "colab": {
     "base_uri": "https://localhost:8080/"
    },
    "executionInfo": {
     "elapsed": 18585,
     "status": "ok",
     "timestamp": 1652228016269,
     "user": {
      "displayName": "Christopher Flores",
      "userId": "09536310764135798173"
     },
     "user_tz": 240
    },
    "id": "LGm2fk4eakiN",
    "outputId": "9d5743c8-aa3b-41cf-e054-5416f5addbb2"
   },
   "outputs": [
    {
     "name": "stdout",
     "output_type": "stream",
     "text": [
      "Ingrese numero entero (r): 0\n",
      "Error, valor mal ingresado\n",
      "Ingrese numero entero (r): -2\n",
      "Error, valor mal ingresado\n",
      "Ingrese numero entero (r): 5\n",
      "15\n"
     ]
    }
   ],
   "source": [
    "#P13\n",
    "s = 0 #para sumar\n",
    "i = 1\n",
    "q = int(input('Ingrese numero entero (r): '))\n",
    "while q<=0:\n",
    "    q = int(input('Error, valor mal ingresado\\nIngrese numero entero (r): '))\n",
    "while i<=q:\n",
    "    s = s+i\n",
    "    i = i+1\n",
    "print(s)"
   ]
  },
  {
   "cell_type": "code",
   "execution_count": 14,
   "metadata": {
    "colab": {
     "base_uri": "https://localhost:8080/"
    },
    "executionInfo": {
     "elapsed": 8244,
     "status": "ok",
     "timestamp": 1652228134790,
     "user": {
      "displayName": "Christopher Flores",
      "userId": "09536310764135798173"
     },
     "user_tz": 240
    },
    "id": "rrFaFEalav_Z",
    "outputId": "2855caa5-b278-46d6-8585-32ed231af631"
   },
   "outputs": [
    {
     "name": "stdout",
     "output_type": "stream",
     "text": [
      "Ingrese numero entero (r): 0\n",
      "Error, valor mal ingresado\n",
      "Ingrese numero entero (r): -2\n",
      "Error, valor mal ingresado\n",
      "Ingrese numero entero (r): 5\n",
      "6\n"
     ]
    }
   ],
   "source": [
    "#P14\n",
    "q = int(input('Ingrese numero entero (r): '))\n",
    "suma = 0\n",
    "i = 1\n",
    "while q<=0:\n",
    "    q = int(input('Error, valor mal ingresado\\nIngrese numero entero (r): '))\n",
    "while i<=q:\n",
    "    if (i%2)==0: #modulo(%) para saber si es par\n",
    "        suma = suma+i\n",
    "    i = i+1\n",
    "print(suma)"
   ]
  }
 ],
 "metadata": {
  "colab": {
   "authorship_tag": "ABX9TyMOIjPGMhvr84KAoJQSSD8I",
   "collapsed_sections": [],
   "name": "ejercicios_resueltos_clases.ipynb",
   "provenance": []
  },
  "kernelspec": {
   "display_name": "Python 3 (ipykernel)",
   "language": "python",
   "name": "python3"
  },
  "language_info": {
   "codemirror_mode": {
    "name": "ipython",
    "version": 3
   },
   "file_extension": ".py",
   "mimetype": "text/x-python",
   "name": "python",
   "nbconvert_exporter": "python",
   "pygments_lexer": "ipython3",
   "version": "3.9.7"
  }
 },
 "nbformat": 4,
 "nbformat_minor": 1
}
