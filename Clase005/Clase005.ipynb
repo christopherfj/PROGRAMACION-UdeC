{
 "cells": [
  {
   "cell_type": "code",
   "execution_count": 1,
   "metadata": {
    "colab": {
     "base_uri": "https://localhost:8080/"
    },
    "executionInfo": {
     "elapsed": 5301,
     "status": "ok",
     "timestamp": 1652228982913,
     "user": {
      "displayName": "Christopher Flores",
      "userId": "09536310764135798173"
     },
     "user_tz": 240
    },
    "id": "j92PueffgiNE",
    "outputId": "f38a6180-5f6a-4941-bc29-205370272c5e"
   },
   "outputs": [
    {
     "name": "stdout",
     "output_type": "stream",
     "text": [
      "Ingrese numero entero (M) >=0: 24\n",
      "Ingrese numero entero (N) >=0: 54\n",
      "24 - 54 = - 30\n"
     ]
    }
   ],
   "source": [
    "#P1\n",
    "M = int( input('Ingrese numero entero (M) >=0: ') )\n",
    "while M<0:\n",
    "    M = int( input('Error\\nIngrese numero entero (M) >=0: ') )\n",
    "    \n",
    "N = int( input('Ingrese numero entero (N) >=0: ') ) \n",
    "while N<0:\n",
    "    N = int( input('Error\\nIngrese numero entero (N) >=0: ') ) \n",
    "    \n",
    "if M>N:\n",
    "    signo = '+'\n",
    "    piso = N\n",
    "    cielo = M\n",
    "else:\n",
    "    signo = '-'\n",
    "    piso = M\n",
    "    cielo = N\n",
    "    \n",
    "delta = 0\n",
    "while piso<cielo:\n",
    "    piso+=1\n",
    "    delta+=1\n",
    "print(M,'-',N,'=',signo,delta)"
   ]
  },
  {
   "cell_type": "code",
   "execution_count": 2,
   "metadata": {
    "colab": {
     "base_uri": "https://localhost:8080/"
    },
    "executionInfo": {
     "elapsed": 3015,
     "status": "ok",
     "timestamp": 1652229041184,
     "user": {
      "displayName": "Christopher Flores",
      "userId": "09536310764135798173"
     },
     "user_tz": 240
    },
    "id": "motQZCc2g7mv",
    "outputId": "b00bf2f2-f76a-4267-fbf6-0a683e5cf837"
   },
   "outputs": [
    {
     "name": "stdout",
     "output_type": "stream",
     "text": [
      "Ingrese número entero (n) >0: 28\n",
      "28 es un número perfecto\n"
     ]
    }
   ],
   "source": [
    "#P2\n",
    "n = int( input('Ingrese número entero (n) >0: ') )\n",
    "while n<=0:\n",
    "    n = int( input('Error\\nIngrese número entero (n) >0: ') )\n",
    "    \n",
    "divisor = 1\n",
    "suma = 0\n",
    "while divisor<n:\n",
    "    if (n%divisor)==0:\n",
    "        suma+=divisor\n",
    "    divisor+=1\n",
    "    \n",
    "if suma==n:\n",
    "    print(n,'es un número perfecto')\n",
    "else:\n",
    "    print(n,'no es un número perfecto')    "
   ]
  },
  {
   "cell_type": "code",
   "execution_count": 3,
   "metadata": {
    "colab": {
     "base_uri": "https://localhost:8080/"
    },
    "executionInfo": {
     "elapsed": 3088,
     "status": "ok",
     "timestamp": 1652229151591,
     "user": {
      "displayName": "Christopher Flores",
      "userId": "09536310764135798173"
     },
     "user_tz": 240
    },
    "id": "7UfPPECgho3x",
    "outputId": "8be301b7-316d-4c30-b764-2b6f5ad85a51"
   },
   "outputs": [
    {
     "name": "stdout",
     "output_type": "stream",
     "text": [
      "Ingrese número entero (n) >=0: 12\n",
      "12 != 479001600 y este número tiene 4 ceros y 5 dígitos distintos de cero\n"
     ]
    }
   ],
   "source": [
    "#P3\n",
    "n = int( input('Ingrese número entero (n) >=0: ') )\n",
    "while n<0:\n",
    "    n = int( input('Error\\nIngrese número entero (n) >=0: ') )\n",
    "\n",
    "n_aux = n\n",
    "factorial = 1\n",
    "while n_aux>0:\n",
    "    factorial*=n_aux\n",
    "    n_aux-=1\n",
    "    \n",
    "digitos = 0\n",
    "ceros = 0\n",
    "f_aux = factorial\n",
    "while f_aux !=0:\n",
    "    digitos+=1\n",
    "    digito = f_aux%10\n",
    "    f_aux //= 10\n",
    "    if digito == 0:\n",
    "        ceros+=1\n",
    "    \n",
    "print(n,'!=',factorial,'y este número tiene',ceros,'ceros y',digitos-ceros,'dígitos distintos de cero')"
   ]
  },
  {
   "cell_type": "code",
   "execution_count": 4,
   "metadata": {
    "colab": {
     "base_uri": "https://localhost:8080/"
    },
    "executionInfo": {
     "elapsed": 13223,
     "status": "ok",
     "timestamp": 1652229282092,
     "user": {
      "displayName": "Christopher Flores",
      "userId": "09536310764135798173"
     },
     "user_tz": 240
    },
    "id": "WxslDq8EiEmG",
    "outputId": "19708816-a277-4833-f39e-1915bee8b60b"
   },
   "outputs": [
    {
     "name": "stdout",
     "output_type": "stream",
     "text": [
      "Ingrese número entero (x) >0: 5\n",
      "Ingrese número entero (y) >=0: 4\n",
      "625\n"
     ]
    }
   ],
   "source": [
    "#P4\n",
    "x = int( input('Ingrese número entero (x) >0: ') )\n",
    "while x<=0:\n",
    "    x = int( input('Error\\nIngrese número entero (x) >0: ') )\n",
    "\n",
    "y = int( input('Ingrese número entero (y) >=0: ') )\n",
    "while y<0:\n",
    "    y = int( input('Error\\nIngrese número entero (y) >=0: ') )\n",
    "\n",
    "if y==0:\n",
    "    potencia=1\n",
    "else:\n",
    "    potencia = x\n",
    "    i = 0\n",
    "    while i<(y-1):\n",
    "        aux = 0\n",
    "        j = 0\n",
    "        while j<x:\n",
    "            aux += potencia\n",
    "            j = j+1\n",
    "        potencia = aux\n",
    "        i = i+1\n",
    "    \n",
    "print(potencia)"
   ]
  },
  {
   "cell_type": "code",
   "execution_count": 5,
   "metadata": {
    "colab": {
     "base_uri": "https://localhost:8080/"
    },
    "executionInfo": {
     "elapsed": 10118,
     "status": "ok",
     "timestamp": 1652229382998,
     "user": {
      "displayName": "Christopher Flores",
      "userId": "09536310764135798173"
     },
     "user_tz": 240
    },
    "id": "JAu80Vuwii1N",
    "outputId": "00995567-5685-41c8-dea8-03266193742e"
   },
   "outputs": [
    {
     "name": "stdout",
     "output_type": "stream",
     "text": [
      "Ingrese número entero (x) >0: 28\n",
      "Ingrese número entero (y) >0: 8\n",
      "\t 28 -\n",
      "\t 14 -\n",
      "\t 7 32\n",
      "\t 3 64\n",
      "\t 1 128\n",
      "--------------\n",
      "Resultado 224\n"
     ]
    }
   ],
   "source": [
    "#P5\n",
    "x = int( input('Ingrese número entero (x) >0: ') )\n",
    "y = int( input('Ingrese número entero (y) >0: ') )\n",
    "\n",
    "suma = 0\n",
    "while x>=1:\n",
    "    if (x%2)!=0:\n",
    "        suma+=y\n",
    "        print('\\t', x, y) #\\t imprime una tabulacion\n",
    "    else:\n",
    "        print('\\t', x, '-')\n",
    "    x = x//2 #// es div entera, es equivalente, evitar usar int()\n",
    "    y = y*2\n",
    "    \n",
    "print('-'*14)\n",
    "print('Resultado', suma)"
   ]
  },
  {
   "cell_type": "code",
   "execution_count": 6,
   "metadata": {
    "colab": {
     "base_uri": "https://localhost:8080/"
    },
    "executionInfo": {
     "elapsed": 38468,
     "status": "ok",
     "timestamp": 1652229484061,
     "user": {
      "displayName": "Christopher Flores",
      "userId": "09536310764135798173"
     },
     "user_tz": 240
    },
    "id": "YUQeHBFdi-TA",
    "outputId": "4802e125-922e-4993-beee-ea47abe6b1eb"
   },
   "outputs": [
    {
     "name": "stdout",
     "output_type": "stream",
     "text": [
      "Ingrese número entero (N): 8\n",
      "Ingrese número entero (altura): 1\n",
      "Ingrese número entero (altura): 4\n",
      "Ingrese número entero (altura): 2\n",
      "Ingrese número entero (altura): 2\n",
      "Ingrese número entero (altura): 3\n",
      "Ingrese número entero (altura): 5\n",
      "Ingrese número entero (altura): 3\n",
      "Ingrese número entero (altura): 4\n",
      "Saltos arriba: 4\n",
      "Saltos abajo: 2\n"
     ]
    }
   ],
   "source": [
    "#P6\n",
    "N = int( input('Ingrese número entero (N): ') )\n",
    "while N<=0 or N>50:\n",
    "    N = int( input('Error\\nIngrese número entero (N): ') )\n",
    "\n",
    "h_prev = int( input('Ingrese número entero (altura): ') )\n",
    "while h_prev<=0 or h_prev>10:\n",
    "    h_prev = int( input('Error\\nIngrese número entero (h): ') )\n",
    "\n",
    "i = 0\n",
    "saltos_arriba = 0\n",
    "saltos_abajo = 0\n",
    "while i<(N-1):\n",
    "    h_act = int( input('Ingrese número entero (altura): ') )\n",
    "    while h_act<=0 or h_act>10:\n",
    "        h_act = int( input('Error\\nIngrese número entero (h): ') )\n",
    "    if h_prev>h_act:\n",
    "        saltos_abajo = saltos_abajo+1\n",
    "    elif h_prev<h_act:\n",
    "        saltos_arriba = saltos_arriba+1\n",
    "    h_prev = h_act\n",
    "    i = i+1\n",
    "    \n",
    "print('Saltos arriba:', saltos_arriba)\n",
    "print('Saltos abajo:', saltos_abajo)"
   ]
  }
 ],
 "metadata": {
  "colab": {
   "authorship_tag": "ABX9TyMOIjPGMhvr84KAoJQSSD8I",
   "collapsed_sections": [],
   "name": "ejercicios_resueltos_clases.ipynb",
   "provenance": []
  },
  "kernelspec": {
   "display_name": "Python 3 (ipykernel)",
   "language": "python",
   "name": "python3"
  },
  "language_info": {
   "codemirror_mode": {
    "name": "ipython",
    "version": 3
   },
   "file_extension": ".py",
   "mimetype": "text/x-python",
   "name": "python",
   "nbconvert_exporter": "python",
   "pygments_lexer": "ipython3",
   "version": "3.9.7"
  }
 },
 "nbformat": 4,
 "nbformat_minor": 1
}
