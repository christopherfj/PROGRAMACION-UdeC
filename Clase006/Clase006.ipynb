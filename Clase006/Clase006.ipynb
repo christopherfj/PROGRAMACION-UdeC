{
 "cells": [
  {
   "cell_type": "code",
   "execution_count": 1,
   "id": "42963908",
   "metadata": {},
   "outputs": [
    {
     "name": "stdout",
     "output_type": "stream",
     "text": [
      "Ingrese n>0: 220\n",
      "284 es amigo de 220\n"
     ]
    }
   ],
   "source": [
    "#P1\n",
    "'''\n",
    "-Función para validar n>0\n",
    "-Nombre: validar_n\n",
    "-Argumentos: el número a validar (n)\n",
    "-Retorno: el número n validado (n)\n",
    "'''\n",
    "def validar_n(n):\n",
    "    while n<=0: \n",
    "        n = int(input('Error\\nIngrese n>0: '))\n",
    "    return n\n",
    "\n",
    "'''\n",
    "-Función para calcular la suma de los divisores propios de un número\n",
    "-Nombre: suma_div_propios\n",
    "-Argumentos: el número al cual se le calcularán y sumarán los divisores propios (n)\n",
    "-Retorno: la suma de los divisores propios de n (s)\n",
    "'''\n",
    "def suma_div_propios(n):\n",
    "    d = 2 #buscar divisores desde 2\n",
    "    s = 1 #el 1 ya es divisor propio\n",
    "    while d<=n/2:\n",
    "        if (n%d)==0:\n",
    "            s = s+d\n",
    "        d = d+1\n",
    "    return s\n",
    "\n",
    "n = int(input('Ingrese n>0: '))\n",
    "n = validar_n(n)\n",
    "\n",
    "suma_n = suma_div_propios(n)\n",
    "m = suma_n\n",
    "suma_m = suma_div_propios(m)\n",
    "\n",
    "if n==suma_m and m==suma_n:\n",
    "    print(m,'es amigo de',n)\n",
    "else:\n",
    "    print(n,'no tiene amigo')"
   ]
  },
  {
   "cell_type": "code",
   "execution_count": 2,
   "id": "51dc05de",
   "metadata": {},
   "outputs": [
    {
     "data": {
      "text/plain": [
       "24"
      ]
     },
     "execution_count": 2,
     "metadata": {},
     "output_type": "execute_result"
    }
   ],
   "source": [
    "def factorial(n):\n",
    "    f = 1\n",
    "    while n>0:\n",
    "        f = f*n\n",
    "        n = n-1\n",
    "    return f\n",
    "factorial(4)"
   ]
  },
  {
   "cell_type": "code",
   "execution_count": null,
   "id": "0c2ccaa4",
   "metadata": {},
   "outputs": [],
   "source": [
    "#Otra opcion\n",
    "'''\n",
    "def factorial(n):\n",
    "    f = 1\n",
    "    for i in range(1, n+1):\n",
    "        f = f*i\n",
    "    return f\n",
    "factorial(4)\n",
    "'''"
   ]
  },
  {
   "cell_type": "code",
   "execution_count": null,
   "id": "e5faab8e",
   "metadata": {},
   "outputs": [],
   "source": [
    "#Otra opcion (iteración for inversa)\n",
    "'''\n",
    "def factorial(n):\n",
    "    f = 1\n",
    "    for i in range(n,0,-1):\n",
    "        f = f*i\n",
    "    return f\n",
    "factorial(4)\n",
    "'''"
   ]
  },
  {
   "cell_type": "code",
   "execution_count": 5,
   "id": "7ca98710",
   "metadata": {},
   "outputs": [
    {
     "data": {
      "image/png": "[encoded data removed]",
      "text/plain": [
       "<Figure size 432x288 with 2 Axes>"
      ]
     },
     "metadata": {
      "needs_background": "light"
     },
     "output_type": "display_data"
    }
   ],
   "source": [
    "from matplotlib import pylab\n",
    "\n",
    "def sin(x, n):\n",
    "    s = 0\n",
    "    for i in range(n):\n",
    "        s = s+(-1)**i*x**(2*i+1)/factorial(2*i+1)\n",
    "    return s\n",
    "\n",
    "def cos(x, n):\n",
    "    s = 0\n",
    "    for i in range(n):\n",
    "        s = s+(-1)**i*x**(2*i)/factorial(2*i)\n",
    "    return s\n",
    "\n",
    "n = 50\n",
    "y_sin = []\n",
    "y_cos = []\n",
    "x_axis = []\n",
    "for x in range(7):\n",
    "    y_sin.append( sin(x,n) )\n",
    "    y_cos.append( cos(x,n) )\n",
    "    x_axis.append(x)\n",
    "    \n",
    "fig = pylab.figure(1)\n",
    "pylab.subplot(1,2,1)\n",
    "pylab.plot(x_axis, y_sin, 'r--o')\n",
    "pylab.subplot(1,2,2)\n",
    "pylab.plot(x_axis, y_cos, 'b--o')\n",
    "pylab.show()"
   ]
  }
 ],
 "metadata": {
  "kernelspec": {
   "display_name": "Python 3 (ipykernel)",
   "language": "python",
   "name": "python3"
  },
  "language_info": {
   "codemirror_mode": {
    "name": "ipython",
    "version": 3
   },
   "file_extension": ".py",
   "mimetype": "text/x-python",
   "name": "python",
   "nbconvert_exporter": "python",
   "pygments_lexer": "ipython3",
   "version": "3.9.7"
  }
 },
 "nbformat": 4,
 "nbformat_minor": 5
}
