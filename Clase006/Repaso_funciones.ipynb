{
 "cells": [
  {
   "cell_type": "code",
   "execution_count": null,
   "id": "7eb6ee8d",
   "metadata": {},
   "outputs": [],
   "source": [
    "#Repaso funciones\n",
    "'''\n",
    "Estructura de una función:\n",
    "-Palabra reservada def\n",
    "-Nombre de la función seguido de dos puntos (:)\n",
    "-Argumentos: la función puede usar uno o más parámetros o simplemente ninguno. Estas solo son reconocidas dentro de la función\n",
    "-Cuerpo de la función: el código que vamos a realizar, pudiendo o no retornar\n",
    "-Retorno: la función puede retornar uno o más valores (separados por coma) o simplemente nada. Para retornar usar palabra reservada return\n",
    "Llamadas a la función: \n",
    "-Se usa el nombre de la función y se le entregan o no los argumentos, según corresponda \n",
    "-Si la función retorna un valor se iguala a alguna variable para almacenar el resultado. Si se requiere más de una variable, separar por comas\n",
    "Funciones pueden ser llamadas dentro de otra función\n",
    "'''"
   ]
  },
  {
   "cell_type": "code",
   "execution_count": 2,
   "id": "6d1e2a51",
   "metadata": {},
   "outputs": [
    {
     "name": "stdout",
     "output_type": "stream",
     "text": [
      "5\n",
      "4\n",
      "3\n",
      "2\n",
      "1\n"
     ]
    },
    {
     "data": {
      "text/plain": [
       "4"
      ]
     },
     "execution_count": 2,
     "metadata": {},
     "output_type": "execute_result"
    }
   ],
   "source": [
    "#Materia adicional\n",
    "\n",
    "#Recursividad\n",
    "'''\n",
    "-Función se llama a sí misma\n",
    "'''\n",
    "def imprimir(x):\n",
    "    if x>0:\n",
    "        print(x)\n",
    "        imprimir(x-1) #llamado a sí misma\n",
    "imprimir(5) \n",
    "\n",
    "#Funciones lambda\n",
    "'''\n",
    "-Funciones cortas\n",
    "-argumentos: expresión\n",
    "'''\n",
    "f = lambda x,y:x+y\n",
    "f(2,2)"
   ]
  },
  {
   "cell_type": "code",
   "execution_count": 3,
   "id": "4141533a",
   "metadata": {},
   "outputs": [
    {
     "name": "stdout",
     "output_type": "stream",
     "text": [
      "Ingrese n1: 10\n",
      "Ingrese n2: 20\n",
      "Suma:  30\n"
     ]
    }
   ],
   "source": [
    "#Ejemplo función sin argumentos ni retorno\n",
    "'''\n",
    "-Función para sumar 2 números\n",
    "-Nombre: suma\n",
    "-Argumentos: ninguno\n",
    "-Retorno: ninguno\n",
    "'''\n",
    "def suma():\n",
    "    n1 = int(input('Ingrese n1: '))\n",
    "    n2 = int(input('Ingrese n2: '))\n",
    "    print('Suma: ', n1+n2)\n",
    "#Llamado a la función\n",
    "suma()"
   ]
  },
  {
   "cell_type": "code",
   "execution_count": 4,
   "id": "2bcca8e3",
   "metadata": {},
   "outputs": [
    {
     "name": "stdout",
     "output_type": "stream",
     "text": [
      "Suma:  30\n"
     ]
    }
   ],
   "source": [
    "#Ejemplo función con argumentos, pero sin retorno\n",
    "'''\n",
    "-Función para sumar 2 números\n",
    "-Nombre: suma\n",
    "-Argumentos: n1 y n2\n",
    "-Retorno: ninguno\n",
    "'''\n",
    "def suma(n1,n2):\n",
    "    print('Suma: ', n1+n2)\n",
    "#Llamado a la función\n",
    "suma(10,20)"
   ]
  },
  {
   "cell_type": "code",
   "execution_count": 5,
   "id": "390dd31f",
   "metadata": {},
   "outputs": [
    {
     "name": "stdout",
     "output_type": "stream",
     "text": [
      "Suma:  30\n"
     ]
    }
   ],
   "source": [
    "#Ejemplo función con argumentos por defecto, pero sin retorno\n",
    "'''\n",
    "-Función para sumar 2 números\n",
    "-Nombre: suma\n",
    "-Argumentos: n1 y n2 con valores por defecto. Esto evita errores si en el llamado no se le entregan argumentos\n",
    "-Retorno: ninguno\n",
    "'''\n",
    "def suma(n1=10, n2=20):\n",
    "    print('Suma: ', n1+n2)\n",
    "#Llamado a la función. Nótese que no hay error, pese a que no se le entregan argumentos\n",
    "suma()"
   ]
  },
  {
   "cell_type": "code",
   "execution_count": 6,
   "id": "52f27c2f",
   "metadata": {},
   "outputs": [
    {
     "name": "stdout",
     "output_type": "stream",
     "text": [
      "Ingrese n2: 20\n",
      "Suma:  30\n"
     ]
    }
   ],
   "source": [
    "#Ejemplo función con argumento y retorno\n",
    "'''\n",
    "-Función para sumar 2 números\n",
    "-Nombre: suma\n",
    "-Argumentos: n1\n",
    "-Retorno: n1+n2\n",
    "'''\n",
    "def suma(n1):\n",
    "    n2 = int(input('Ingrese n2: '))\n",
    "    return n1+n2 #también es posible almacenar esta suma en una variable para retornarla\n",
    "#Llamado a la función\n",
    "s = suma(10)\n",
    "print('Suma: ', s)"
   ]
  },
  {
   "cell_type": "code",
   "execution_count": 7,
   "id": "5fb9193e",
   "metadata": {},
   "outputs": [
    {
     "name": "stdout",
     "output_type": "stream",
     "text": [
      "Ingrese n2: 20\n",
      "Suma:  30 , Mayor:  20\n"
     ]
    }
   ],
   "source": [
    "#Ejemplo función con argumento y múltiples valores de retorno\n",
    "'''\n",
    "-Función para sumar 2 números\n",
    "-Nombre: suma\n",
    "-Argumentos: n1\n",
    "-Retorno: s, mayor\n",
    "'''\n",
    "def suma(n1):\n",
    "    n2 = int(input('Ingrese n2: '))\n",
    "    s = n1+n2\n",
    "    if n1>n2:\n",
    "        mayor = n1\n",
    "    elif n1<n2:\n",
    "        mayor = n2\n",
    "    else:\n",
    "        mayor = None\n",
    "    return s, mayor\n",
    "#Llamado a la función\n",
    "s, mayor = suma(10)\n",
    "print('Suma: ', s, ', Mayor: ', mayor)"
   ]
  },
  {
   "cell_type": "code",
   "execution_count": 8,
   "id": "49668804",
   "metadata": {},
   "outputs": [
    {
     "name": "stdout",
     "output_type": "stream",
     "text": [
      "Ingrese n2: 20\n",
      "Suma:  30 , Mayor:  20\n"
     ]
    }
   ],
   "source": [
    "#Ejemplo función con argumento y múltiples valores de retorno, llamando a una función dentro de otra función\n",
    "'''\n",
    "-Función para sumar 2 números\n",
    "-Nombre: mayor_n1_n2\n",
    "-Argumentos: n1,n2\n",
    "-Retorno: mayor\n",
    "'''\n",
    "def mayor_n1_n2(n1,n2):\n",
    "    if n1>n2:\n",
    "        mayor = n1\n",
    "    elif n1<n2:\n",
    "        mayor = n2\n",
    "    else:\n",
    "        mayor = None\n",
    "    return mayor\n",
    "\n",
    "'''\n",
    "-Función para sumar 2 números\n",
    "-Nombre: suma\n",
    "-Argumentos: n1\n",
    "-Retorno: s, mayor\n",
    "'''\n",
    "def suma(n1):\n",
    "    n2 = int(input('Ingrese n2: '))\n",
    "    s = n1+n2\n",
    "    mayor = mayor_n1_n2(n1,n2)\n",
    "    return s, mayor\n",
    "#Llamado a la función\n",
    "s, mayor = suma(10)\n",
    "print('Suma: ', s, ', Mayor: ', mayor)"
   ]
  }
 ],
 "metadata": {
  "kernelspec": {
   "display_name": "Python 3 (ipykernel)",
   "language": "python",
   "name": "python3"
  },
  "language_info": {
   "codemirror_mode": {
    "name": "ipython",
    "version": 3
   },
   "file_extension": ".py",
   "mimetype": "text/x-python",
   "name": "python",
   "nbconvert_exporter": "python",
   "pygments_lexer": "ipython3",
   "version": "3.9.7"
  }
 },
 "nbformat": 4,
 "nbformat_minor": 5
}
