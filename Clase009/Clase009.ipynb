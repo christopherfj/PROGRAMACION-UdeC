{
 "cells": [
  {
   "cell_type": "code",
   "execution_count": 9,
   "id": "54430c86",
   "metadata": {},
   "outputs": [
    {
     "name": "stdout",
     "output_type": "stream",
     "text": [
      "Ingrese valor >0: 3\n",
      "Ingrese letras: MMM\n",
      "3000\n",
      "Ingrese letras: XXI\n",
      "21\n",
      "Ingrese letras: I\n",
      "1\n"
     ]
    }
   ],
   "source": [
    "#P1\n",
    "def validar(msje, inf, sup):\n",
    "    numero = int(input('Ingrese valor '+msje))\n",
    "    if inf!=sup:\n",
    "        while numero<inf or numero>sup:\n",
    "            numero = int(input('Error\\nIngrese valor '+msje))\n",
    "    else:\n",
    "        while numero<inf:\n",
    "            numero = int(input('Error\\nIngrese valor '+msje))\n",
    "    return numero\n",
    "\n",
    "def letras_a_numeros(letras):\n",
    "    numeros = []\n",
    "    for letra in letras:\n",
    "        if letra == 'I':\n",
    "            numeros.append(1)\n",
    "        elif letra == 'V':\n",
    "            numeros.append(5)\n",
    "        elif letra == 'X':\n",
    "            numeros.append(10)\n",
    "        elif letra == 'L':\n",
    "            numeros.append(50)\n",
    "        elif letra == 'C':\n",
    "            numeros.append(100)\n",
    "        elif letra == 'D':\n",
    "            numeros.append(500)\n",
    "        elif letra == 'M':\n",
    "            numeros.append(1000)\n",
    "    return numeros\n",
    "    \n",
    "n = validar('>0: ', 0,0)\n",
    "\n",
    "i = 0 #(1-i)\n",
    "while i<n: #(2-i)\n",
    "    s = 0\n",
    "    letras = input('Ingrese letras: ')\n",
    "    numeros = letras_a_numeros(letras)\n",
    "    m = len(numeros)\n",
    "    j = 0 #(1-j)\n",
    "    while j<(m-1): #(2-j)\n",
    "        if numeros[j]>=numeros[j+1]:\n",
    "            s = s+numeros[j]\n",
    "        else:\n",
    "            s = s+numeros[j+1]-numeros[j]\n",
    "            j = j+1\n",
    "        j = j+1 #(3-j)\n",
    "    if j==(m-1):\n",
    "        s = s+numeros[-1]\n",
    "    print(s)\n",
    "    i = i+1 #(3-i)\n",
    "\n",
    "#MMMDCVII\n",
    "#CMXLIII\n",
    "#CDXLIV"
   ]
  },
  {
   "cell_type": "code",
   "execution_count": null,
   "id": "c8f280c6",
   "metadata": {},
   "outputs": [],
   "source": [
    "#P2"
   ]
  },
  {
   "cell_type": "code",
   "execution_count": 13,
   "id": "d9ed5025",
   "metadata": {},
   "outputs": [
    {
     "name": "stdout",
     "output_type": "stream",
     "text": [
      "Ingrese valor 3<n<=10000: 15\n",
      "Ingrese valor >=0: 4\n",
      "Ingrese valor >=0: 0\n",
      "Ingrese valor >=0: 0\n",
      "Ingrese valor >=0: 9\n",
      "Ingrese valor >=0: 17\n",
      "Ingrese valor >=0: 4\n",
      "Ingrese valor >=0: 2\n",
      "Ingrese valor >=0: 6\n",
      "Ingrese valor >=0: 4\n",
      "Ingrese valor >=0: 4\n",
      "Ingrese valor >=0: 0\n",
      "Ingrese valor >=0: 4\n",
      "Ingrese valor >=0: 6\n",
      "Ingrese valor >=0: 8\n",
      "Ingrese valor >=0: 17\n",
      "moda= 4 y se repite 5 veces\n"
     ]
    }
   ],
   "source": [
    "#P3\n",
    "def validar(msje, inf, sup):\n",
    "    numero = int(input('Ingrese valor '+msje))\n",
    "    if inf!=sup:\n",
    "        while numero<inf or numero>sup:\n",
    "            numero = int(input('Error\\nIngrese valor '+msje))\n",
    "    else:\n",
    "        while numero<inf:\n",
    "            numero = int(input('Error\\nIngrese valor '+msje))\n",
    "    return numero\n",
    "\n",
    "def moda_numeros(numeros):\n",
    "    unicos = list(set(numeros))\n",
    "    moda = -1\n",
    "    rmoda = -1\n",
    "    for numero in unicos:\n",
    "        if numeros.count(numero)>moda:\n",
    "            moda = numeros.count(numero)\n",
    "            rmoda = numero\n",
    "    return moda, rmoda\n",
    "\n",
    "numeros = []\n",
    "n = validar('3<n<=10000: ', 4, 10000)\n",
    "for i in range(n):\n",
    "    numero = validar('>=0: ', 0, 0)\n",
    "    numeros.append(numero)\n",
    "\n",
    "moda, rmoda = moda_numeros(numeros)\n",
    "print('moda=',rmoda,'y se repite', moda, 'veces')\n",
    "\n",
    "#15,4,0,0,9,17,4,2,6,4,4,0,4,6,8,17"
   ]
  },
  {
   "cell_type": "code",
   "execution_count": 17,
   "id": "8a030ef9",
   "metadata": {},
   "outputs": [
    {
     "name": "stdout",
     "output_type": "stream",
     "text": [
      "Ingrese valor 6<=N<=30: 6\n",
      "Ingrese número real: 1.3\n",
      "Ingrese número real: 1.2\n",
      "Ingrese número real: 1.1\n",
      "Ingrese número real: 1.6\n",
      "Ingrese número real: 1.5\n",
      "Ingrese número real: 1.4\n",
      "[1.1, 1.2, 1.3, 1.4, 1.5, 1.6]\n"
     ]
    }
   ],
   "source": [
    "#P4\n",
    "def validar(msje, inf, sup):\n",
    "    numero = int(input('Ingrese valor '+msje))\n",
    "    if inf!=sup:\n",
    "        while numero<inf or numero>sup:\n",
    "            numero = int(input('Error\\nIngrese valor '+msje))\n",
    "    else:\n",
    "        while numero<inf:\n",
    "            numero = int(input('Error\\nIngrese valor '+msje))\n",
    "    return numero\n",
    "\n",
    "numeros = []\n",
    "N = validar('6<=N<=30: ', 6, 30)\n",
    "for i in range(N):\n",
    "    numero = float(input('Ingrese número real: '))\n",
    "    numeros.append(numero)\n",
    "numeros.sort()\n",
    "print(numeros)\n",
    "\n",
    "#6, 1.3, 1.2, 1.1, 1.6, 1.5, 1.4"
   ]
  },
  {
   "cell_type": "code",
   "execution_count": null,
   "id": "a1c47aa0",
   "metadata": {},
   "outputs": [],
   "source": [
    "#P5"
   ]
  }
 ],
 "metadata": {
  "kernelspec": {
   "display_name": "Python 3 (ipykernel)",
   "language": "python",
   "name": "python3"
  },
  "language_info": {
   "codemirror_mode": {
    "name": "ipython",
    "version": 3
   },
   "file_extension": ".py",
   "mimetype": "text/x-python",
   "name": "python",
   "nbconvert_exporter": "python",
   "pygments_lexer": "ipython3",
   "version": "3.9.7"
  }
 },
 "nbformat": 4,
 "nbformat_minor": 5
}
