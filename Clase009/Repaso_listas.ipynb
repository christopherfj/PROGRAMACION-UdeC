{
 "cells": [
  {
   "cell_type": "code",
   "execution_count": 1,
   "id": "89a5573f",
   "metadata": {},
   "outputs": [
    {
     "name": "stdout",
     "output_type": "stream",
     "text": [
      "[1, 'a', [2, 'b'], [[3, 'c'], [4, 'd']]]\n"
     ]
    }
   ],
   "source": [
    "#Para usar listas [] \n",
    "#Las listas incluso pueden contener otras listas\n",
    "lista = [1, \"a\", [2,\"b\"], [[3,\"c\"], [4,\"d\"]]]\n",
    "print(lista)"
   ]
  },
  {
   "cell_type": "code",
   "execution_count": 2,
   "id": "066e0e50",
   "metadata": {},
   "outputs": [
    {
     "name": "stdout",
     "output_type": "stream",
     "text": [
      "4\n"
     ]
    }
   ],
   "source": [
    "#Para obtener la cantidad de elementos:\n",
    "lista = [1, \"a\", [2,\"b\"], [[3,\"c\"], [4,\"d\"]]]\n",
    "largo = len(lista)\n",
    "print(largo)"
   ]
  },
  {
   "cell_type": "code",
   "execution_count": 3,
   "id": "9defec78",
   "metadata": {},
   "outputs": [
    {
     "name": "stdout",
     "output_type": "stream",
     "text": [
      "Lista original: [1, 'a', [2, 'b'], [[3, 'c'], [4, 'd']]]\n",
      "Primer elemento: 1\n",
      "Segundo elemento: a\n",
      "Último elemento: [[3, 'c'], [4, 'd']]\n",
      "Del tercer elemento, el segundo: b\n",
      "Del cuarto elemento, del segundo, el primero: 4\n"
     ]
    }
   ],
   "source": [
    "#Es posible acceder a los elementos de una lista mediante posiciones (índices)\n",
    "#Primera posición comienza en 0\n",
    "#Última posición termina en len(lista)-1, donde lista es el nombre de la variable\n",
    "lista = [1, \"a\", [2,\"b\"], [[3,\"c\"], [4,\"d\"]]]\n",
    "print('Lista original:', lista)\n",
    "print('Primer elemento:', lista[0])\n",
    "print('Segundo elemento:', lista[1])\n",
    "print('Último elemento:', lista[len(lista)-1])\n",
    "print('Del tercer elemento, el segundo:', lista[2][1])\n",
    "print('Del cuarto elemento, del segundo, el primero:', lista[3][1][0])"
   ]
  },
  {
   "attachments": {
    "pos.PNG": {
     "image/png": "[encoded data removed]"
    }
   },
   "cell_type": "markdown",
   "id": "32eb1b73",
   "metadata": {},
   "source": [
    "![pos.PNG](attachment:pos.PNG)"
   ]
  },
  {
   "cell_type": "code",
   "execution_count": 4,
   "id": "327527fa",
   "metadata": {},
   "outputs": [
    {
     "name": "stdout",
     "output_type": "stream",
     "text": [
      "Lista original: [1, 'a', [2, 'b'], [[3, 'c'], [4, 'd']]]\n",
      "Primeros dos elementos: [1, 'a']\n",
      "Primeros dos elementos: [1, 'a']\n",
      "Últimos dos elementos: [[2, 'b'], [[3, 'c'], [4, 'd']]]\n",
      "Últimos dos elementos: [[2, 'b'], [[3, 'c'], [4, 'd']]]\n",
      "Todos los elementos de dos en dos: [1, [2, 'b']]\n",
      "Todos los elementos de dos en dos: [1, [2, 'b']]\n"
     ]
    }
   ],
   "source": [
    "#También es posible obtener un segmento de una lista mediante ':'\n",
    "lista = [1, \"a\", [2,\"b\"], [[3,\"c\"], [4,\"d\"]]]\n",
    "print('Lista original:', lista)\n",
    "#En este ejemplo las posiciones son: [0,1) (el valor superior no se considera)\n",
    "print('Primeros dos elementos:', lista[0:2])\n",
    "#Mismo ejemplo, pero omitiendo el primer número (0)\n",
    "print('Primeros dos elementos:', lista[:2])\n",
    "#En este ejemplo se muestran los últimos dos elementos\n",
    "#No se agregó len(lista)-1 porque el valor superior no se considera\n",
    "print('Últimos dos elementos:', lista[len(lista)-2:len(lista)])\n",
    "#Mismo ejemplo, pero omitiendo el último número (len(lista))\n",
    "print('Últimos dos elementos:', lista[len(lista)-2:])\n",
    "#Para obtener los elementos de forma intercalada, agregar otro ':'\n",
    "#En este ejemplo se muestran todos los elementos de dos en dos (paso)\n",
    "print('Todos los elementos de dos en dos:', lista[0:len(lista):2])\n",
    "#Mismo ejemplo, pero omitiendo el primer y último valor, manteniendo solo el paso (2)\n",
    "print('Todos los elementos de dos en dos:', lista[::2])\n",
    "#Para copiar todos los elementos de una lista a otra:\n",
    "nueva_lista = lista[:] #NO hacer nueva_lista=lista ¿qué sucede? recordar que las listas son mutables"
   ]
  },
  {
   "cell_type": "code",
   "execution_count": 5,
   "id": "393bbfb2",
   "metadata": {},
   "outputs": [
    {
     "name": "stdout",
     "output_type": "stream",
     "text": [
      "Lista original: [1, 'a', [2, 'b'], [[3, 'c'], [4, 'd']]]\n",
      "Primer elemento: 1\n",
      "Segundo elemento: a\n",
      "Último elemento: [[3, 'c'], [4, 'd']]\n",
      "Penúltimo elemento: [2, 'b']\n",
      "Lista invertido: [[[3, 'c'], [4, 'd']], [2, 'b'], 'a', 1]\n"
     ]
    }
   ],
   "source": [
    "#También es posible obtener elementos con posiciones negativas\n",
    "lista = [1, \"a\", [2,\"b\"], [[3,\"c\"], [4,\"d\"]]]\n",
    "print('Lista original:', lista)\n",
    "print('Primer elemento:', lista[-len(lista)])\n",
    "print('Segundo elemento:', lista[-len(lista)+1])\n",
    "print('Último elemento:', lista[-1])\n",
    "print('Penúltimo elemento:', lista[-2])\n",
    "#Entonces, para invertir los elementos:\n",
    "print('Lista invertido:', lista[::-1])"
   ]
  },
  {
   "attachments": {
    "neg_pos.PNG": {
     "image/png": "[encoded data removed]"
    }
   },
   "cell_type": "markdown",
   "id": "a12bb364",
   "metadata": {},
   "source": [
    "![neg_pos.PNG](attachment:neg_pos.PNG)"
   ]
  },
  {
   "cell_type": "code",
   "execution_count": 6,
   "id": "8ba818b2",
   "metadata": {},
   "outputs": [
    {
     "name": "stdout",
     "output_type": "stream",
     "text": [
      "Lista original: [1, 'a', [2, 'b'], [[3, 'c'], [4, 'd']]]\n",
      "Lista modificada: [111, 'a', [2, 'b'], [[3, 'c'], [4, 'd']]]\n"
     ]
    }
   ],
   "source": [
    "#Las listas son mutables, es decir, es posible modificar sus elementos:\n",
    "lista = [1, \"a\", [2,\"b\"], [[3,\"c\"], [4,\"d\"]]]\n",
    "print('Lista original:', lista)\n",
    "lista[0] = 111 \n",
    "print('Lista modificada:', lista)"
   ]
  },
  {
   "cell_type": "code",
   "execution_count": 7,
   "id": "0433d6f4",
   "metadata": {},
   "outputs": [
    {
     "name": "stdout",
     "output_type": "stream",
     "text": [
      "1\n",
      "a\n",
      "[2, 'b']\n",
      "[[3, 'c'], [4, 'd']]\n"
     ]
    }
   ],
   "source": [
    "#Alternativa para recorrer los elementos de una lista (for):\n",
    "lista = [1, \"a\", [2,\"b\"], [[3,\"c\"], [4,\"d\"]]]\n",
    "for elemento in lista: #elemento solo es una variable auxiliar\n",
    "    print(elemento)"
   ]
  },
  {
   "cell_type": "code",
   "execution_count": 8,
   "id": "9f1eac1a",
   "metadata": {},
   "outputs": [
    {
     "name": "stdout",
     "output_type": "stream",
     "text": [
      "1\n",
      "a\n",
      "[2, 'b']\n",
      "[[3, 'c'], [4, 'd']]\n"
     ]
    }
   ],
   "source": [
    "#Alternativa para recorrer los elementos de una lista con posiciones (for):\n",
    "lista = [1, \"a\", [2,\"b\"], [[3,\"c\"], [4,\"d\"]]]\n",
    "for i in range(len(lista)): #range en este caso entrega las posiciones\n",
    "    print(lista[i]) #acceder al elemento i-ésimo de la lista"
   ]
  },
  {
   "cell_type": "code",
   "execution_count": 9,
   "id": "14b4bcc2",
   "metadata": {},
   "outputs": [
    {
     "name": "stdout",
     "output_type": "stream",
     "text": [
      "1\n",
      "a\n",
      "[2, 'b']\n",
      "[[3, 'c'], [4, 'd']]\n"
     ]
    }
   ],
   "source": [
    "#Alternativa para recorrer los elementos de una lista con posiciones (while):\n",
    "lista = [1, \"a\", [2,\"b\"], [[3,\"c\"], [4,\"d\"]]]\n",
    "n = len(lista)\n",
    "i = 0 #(1)\n",
    "while i<n: #(2)\n",
    "    print(lista[i]) #acceder al elemento i-ésimo de la lista\n",
    "    i = i+1"
   ]
  },
  {
   "cell_type": "code",
   "execution_count": 10,
   "id": "d8aef3c2",
   "metadata": {},
   "outputs": [
    {
     "name": "stdout",
     "output_type": "stream",
     "text": [
      "Lista original:\n",
      " [1, 'a', [2, 'b'], [[3, 'c'], [4, 'd']]]\n",
      "Lista concatenada:\n",
      "[1, 'a', [2, 'b'], [[3, 'c'], [4, 'd']], '2022']\n",
      "\n",
      "Lista repetida:\n",
      ": [1, 2, 3, 1, 2, 3, 1, 2, 3, 1, 2, 3, 1, 2, 3, 1, 2, 3, 1, 2, 3, 1, 2, 3, 1, 2, 3, 1, 2, 3]\n"
     ]
    }
   ],
   "source": [
    "#Es posible sumar listas (concatenar):\n",
    "lista = [1, \"a\", [2,\"b\"], [[3,\"c\"], [4,\"d\"]]]\n",
    "print('Lista original:\\n', lista)\n",
    "\n",
    "#Para sumar, es necesario que los operandos sean listas, en caso contrario, error\n",
    "nueva_lista = lista+['2022'] \n",
    "print('Lista concatenada:\\n'+str(nueva_lista)+'\\n') #acá para sumar strings todo debe ser de este tipo\n",
    "\n",
    "#Es posible multiplicar listas por un número, generando una repetición\n",
    "otra_lista = [1,2,3]*10\n",
    "print('Lista repetida:\\n:', otra_lista)"
   ]
  },
  {
   "cell_type": "code",
   "execution_count": 11,
   "id": "4c8498be",
   "metadata": {},
   "outputs": [
    {
     "name": "stdout",
     "output_type": "stream",
     "text": [
      "Lista original:\n",
      " [1, 'a', [2, 'b'], [[3, 'c'], [4, 'd']]] \n",
      "\n",
      "Agregar '1' al final de la lista:\n",
      " [1, 'a', [2, 'b'], [[3, 'c'], [4, 'd']], '1'] \n",
      "\n",
      "Cantidad de '1' en la lista:\n",
      " 1 \n",
      "\n",
      "Agregar una lista [1,2,3] extendida a la lista:\n",
      " [1, 'a', [2, 'b'], [[3, 'c'], [4, 'd']], '1', 1, 2, 3] \n",
      "\n",
      "Posición de '1' en la lista:\n",
      " 4 \n",
      "\n",
      "Insertar un -1 en la segunda posición lista:\n",
      " [1, -1, 'a', [2, 'b'], [[3, 'c'], [4, 'd']], '1', 1, 2, 3] \n",
      "\n",
      "Eliminar elemento (pop) 3 de la lista:\n",
      " [1, -1, 'a', [2, 'b'], [[3, 'c'], [4, 'd']], '1', 1, 2] \n",
      "\n",
      "Eliminar un 1 en la lista:\n",
      " [-1, 'a', [2, 'b'], [[3, 'c'], [4, 'd']], '1', 1, 2] \n",
      "\n",
      "Lista no invertida: ['p', 'y', 't', 'h', 'o', 'n'] \n",
      "\n",
      "Lista invertida: ['n', 'o', 'h', 't', 'y', 'p'] \n",
      "\n",
      "Lista ordenada: ['h', 'n', 'o', 'p', 't', 'y'] \n",
      "\n",
      "Eliminar todos los elementos de la lista: [] \n",
      "\n",
      "Copia todos los elementos de la lista: [-1, 'a', [2, 'b'], [[3, 'c'], [4, 'd']], '1', 1, 2] \n",
      "\n",
      "Crear un string a partir de la lista:\n",
      " ['p', 'y', 't', 'h', 'o', 'n'] \n",
      " p-y-t-h-o-n\n",
      "Crear una lista a partir de un string:\n",
      " p-y-t-h-o-n \n",
      " ['p', '-', 'y', '-', 't', '-', 'h', '-', 'o', '-', 'n']\n"
     ]
    }
   ],
   "source": [
    "#Las listas son un tipo de datos que tienen asociados algunos métodos\n",
    "#Acá se muestran solo algunos\n",
    "#No todos los resultado de estas funciones retornan un valor/elemento (None)\n",
    "lista = [1, \"a\", [2,\"b\"], [[3,\"c\"], [4,\"d\"]]]\n",
    "print('Lista original:\\n', lista, '\\n')\n",
    "\n",
    "#Método append modifica lista original (agrega un elemento al final de la lista) \n",
    "#Se debe entregar como argumento el elemento a agregar\n",
    "lista.append('1')\n",
    "print(\"Agregar '1' al final de la lista:\\n\", lista, '\\n' )\n",
    "\n",
    "#Método count retorna entero. Se debe entregar como argumento el elemento a contar\n",
    "print(\"Cantidad de '1' en la lista:\\n\", lista.count('1'), '\\n' ) #1 es distinto a '1'\n",
    "\n",
    "#Método extend modifica lista original (extiende los elementos de una lista a otra)\n",
    "#Se debe entregar como argumento el elemento a agregar\n",
    "lista.extend([1,2,3])\n",
    "print('Agregar una lista [1,2,3] extendida a la lista:\\n', lista, '\\n')\n",
    "\n",
    "#Método index retorna entero (posición de la primera ocurrencia del elemento) \n",
    "#Se debe entregar como argumento el elemento a buscar\n",
    "#Si el elemento no está en la lista, error\n",
    "print(\"Posición de '1' en la lista:\\n\", lista.index('1'), '\\n' )\n",
    "\n",
    "#Método insert modifica lista original (inserta en una posición algún elemento)\n",
    "#Se debe entregar como argumento la posición y el elemento a insertar\n",
    "lista.insert(1,-1)\n",
    "print('Insertar un -1 en la segunda posición lista:\\n', lista, '\\n' )\n",
    "\n",
    "#Método pop retorna elemento eliminado (elimina un elemento en la lista)\n",
    "#Se debe entregar como argumento la posición a eliminar\n",
    "#La posición a eliminar por defecto (sin argumentos) es la última\n",
    "eliminado = lista.pop() #equivalente a lista.pop(-1) o lista.pop(len(lista)-1)\n",
    "print('Eliminar elemento (pop)', eliminado, 'de la lista:\\n', lista, '\\n' )\n",
    "\n",
    "#Método remove modifica lista original (elimina primera ocurrencia del elemento)\n",
    "#Se debe entregar como argumento el elemento a eliminar\n",
    "#Si el elemento no está en la lista, error\n",
    "lista.remove(1)\n",
    "print('Eliminar un 1 en la lista:\\n', lista, '\\n' )\n",
    "\n",
    "#Método reverse modifica la lista original (invierte los elementos)\n",
    "nueva_lista = ['p', 'y', 't', 'h', 'o', 'n']\n",
    "print('Lista no invertida:', nueva_lista, '\\n' )\n",
    "nueva_lista.reverse()\n",
    "print('Lista invertida:', nueva_lista, '\\n' )\n",
    "\n",
    "#Método reverse modifica la lista original (ordena los elementos)\n",
    "#Permite ordenar en reverso (parámetro reverse)\n",
    "nueva_lista.sort()\n",
    "print('Lista ordenada:', nueva_lista, '\\n' )\n",
    "\n",
    "#Método clear modifica lista original (elimina todos los elementos de la lista)\n",
    "nueva_lista.clear()\n",
    "print('Eliminar todos los elementos de la lista:', nueva_lista, '\\n' )\n",
    "\n",
    "#Método copy retorna la lista original (sin modificaciones)\n",
    "otra_lista = lista.copy()\n",
    "print('Copia todos los elementos de la lista:', otra_lista, '\\n' )\n",
    "\n",
    "nueva_lista = ['p', 'y', 't', 'h', 'o', 'n']\n",
    "cadena = '-'.join(nueva_lista)\n",
    "#En este caso el string se forma uniendo los elementos de la lista con un '-'\n",
    "print('Crear un string a partir de la lista:\\n', nueva_lista, '\\n', cadena )\n",
    "#Separar cada elemento de la lista:\n",
    "print('Crear una lista a partir de un string:\\n', cadena, '\\n', list(cadena) )"
   ]
  }
 ],
 "metadata": {
  "kernelspec": {
   "display_name": "Python 3 (ipykernel)",
   "language": "python",
   "name": "python3"
  },
  "language_info": {
   "codemirror_mode": {
    "name": "ipython",
    "version": 3
   },
   "file_extension": ".py",
   "mimetype": "text/x-python",
   "name": "python",
   "nbconvert_exporter": "python",
   "pygments_lexer": "ipython3",
   "version": "3.9.7"
  }
 },
 "nbformat": 4,
 "nbformat_minor": 5
}
